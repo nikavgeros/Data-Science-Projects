{
 "cells": [
  {
   "cell_type": "code",
   "execution_count": 1,
   "id": "0f9a3e68",
   "metadata": {},
   "outputs": [],
   "source": [
    "import pandas as pd\n",
    "import numpy as np\n",
    "import tensorflow as tf\n",
    "from tensorflow.keras.preprocessing.text import Tokenizer\n",
    "from tensorflow.keras.preprocessing.sequence import pad_sequences"
   ]
  },
  {
   "cell_type": "code",
   "execution_count": 2,
   "id": "7a6551f1",
   "metadata": {},
   "outputs": [
    {
     "data": {
      "text/html": [
       "<div>\n",
       "<style scoped>\n",
       "    .dataframe tbody tr th:only-of-type {\n",
       "        vertical-align: middle;\n",
       "    }\n",
       "\n",
       "    .dataframe tbody tr th {\n",
       "        vertical-align: top;\n",
       "    }\n",
       "\n",
       "    .dataframe thead th {\n",
       "        text-align: right;\n",
       "    }\n",
       "</style>\n",
       "<table border=\"1\" class=\"dataframe\">\n",
       "  <thead>\n",
       "    <tr style=\"text-align: right;\">\n",
       "      <th></th>\n",
       "      <th>id</th>\n",
       "      <th>review</th>\n",
       "      <th>label</th>\n",
       "    </tr>\n",
       "  </thead>\n",
       "  <tbody>\n",
       "    <tr>\n",
       "      <th>4745</th>\n",
       "      <td>4745</td>\n",
       "      <td>Εγώ έχω να πω ότι παρήγγειλα εν μέσω καραντί...</td>\n",
       "      <td>Positive</td>\n",
       "    </tr>\n",
       "    <tr>\n",
       "      <th>4575</th>\n",
       "      <td>4575</td>\n",
       "      <td>Το μόνο αρνητικό  η παραγγελία δεν παρακολου...</td>\n",
       "      <td>Positive</td>\n",
       "    </tr>\n",
       "    <tr>\n",
       "      <th>5092</th>\n",
       "      <td>5092</td>\n",
       "      <td>Αριστη εξυπηρέτηση πελατών. Ακόμα και σε περ...</td>\n",
       "      <td>Positive</td>\n",
       "    </tr>\n",
       "    <tr>\n",
       "      <th>4064</th>\n",
       "      <td>4064</td>\n",
       "      <td>Στις 22-7-2015 τοποθέτησα παραγγελία για ένα...</td>\n",
       "      <td>Negative</td>\n",
       "    </tr>\n",
       "    <tr>\n",
       "      <th>615</th>\n",
       "      <td>615</td>\n",
       "      <td>Γρηγορή παραλαβή προς το παρόν δεν αντιμετώπ...</td>\n",
       "      <td>Positive</td>\n",
       "    </tr>\n",
       "    <tr>\n",
       "      <th>1256</th>\n",
       "      <td>1256</td>\n",
       "      <td>Αριστο μαγαζί. Συνιστάται ανεπιφύλακτα..</td>\n",
       "      <td>Positive</td>\n",
       "    </tr>\n",
       "    <tr>\n",
       "      <th>3758</th>\n",
       "      <td>3758</td>\n",
       "      <td>Παραγγειλαμε προϊόν που ήταν διαθέσιμο το οπ...</td>\n",
       "      <td>Negative</td>\n",
       "    </tr>\n",
       "    <tr>\n",
       "      <th>3879</th>\n",
       "      <td>3879</td>\n",
       "      <td>Έκανα την παραγγελία μου για μία καφετιέρα φ...</td>\n",
       "      <td>Negative</td>\n",
       "    </tr>\n",
       "    <tr>\n",
       "      <th>5207</th>\n",
       "      <td>5207</td>\n",
       "      <td>Η παραγγελία έχει αργήσει πέραν του κανονικο...</td>\n",
       "      <td>Negative</td>\n",
       "    </tr>\n",
       "    <tr>\n",
       "      <th>2877</th>\n",
       "      <td>2877</td>\n",
       "      <td>Ασυναγώνιστο κατάστημα !</td>\n",
       "      <td>Positive</td>\n",
       "    </tr>\n",
       "    <tr>\n",
       "      <th>4706</th>\n",
       "      <td>4706</td>\n",
       "      <td>Το μόνο για το οποίο μπορώ να παραπονεθώ είν...</td>\n",
       "      <td>Positive</td>\n",
       "    </tr>\n",
       "    <tr>\n",
       "      <th>1081</th>\n",
       "      <td>1081</td>\n",
       "      <td>Δεν είναι η πρώτη φορά που αγοράζουμε απο το...</td>\n",
       "      <td>Positive</td>\n",
       "    </tr>\n",
       "    <tr>\n",
       "      <th>5634</th>\n",
       "      <td>5634</td>\n",
       "      <td>Όλα καλά με την παραγγελία και την αποστολή ...</td>\n",
       "      <td>Negative</td>\n",
       "    </tr>\n",
       "    <tr>\n",
       "      <th>1860</th>\n",
       "      <td>1860</td>\n",
       "      <td>Πραγματικά είχα αρκετό καιρό να δεχθώ τόσο κ...</td>\n",
       "      <td>Negative</td>\n",
       "    </tr>\n",
       "    <tr>\n",
       "      <th>5598</th>\n",
       "      <td>5598</td>\n",
       "      <td>Στις 4.05.20 παρήγγειλα ενα τροφοδοτικό απο ...</td>\n",
       "      <td>Negative</td>\n",
       "    </tr>\n",
       "    <tr>\n",
       "      <th>897</th>\n",
       "      <td>897</td>\n",
       "      <td>Ολα στην ωρα τους προσεγμένη συσκευασία το σ...</td>\n",
       "      <td>Positive</td>\n",
       "    </tr>\n",
       "    <tr>\n",
       "      <th>1692</th>\n",
       "      <td>1692</td>\n",
       "      <td>Δε θα έλεγα ότι είχα και την καλύτερη εμπειρ...</td>\n",
       "      <td>Negative</td>\n",
       "    </tr>\n",
       "    <tr>\n",
       "      <th>1790</th>\n",
       "      <td>1790</td>\n",
       "      <td>Ειμαι μαγειρας  παραγγειλα την καλυτερη κουζ...</td>\n",
       "      <td>Negative</td>\n",
       "    </tr>\n",
       "    <tr>\n",
       "      <th>2418</th>\n",
       "      <td>2418</td>\n",
       "      <td>Με λίγα λόγια  η εμπειρία μου από το συγκεκρ...</td>\n",
       "      <td>Positive</td>\n",
       "    </tr>\n",
       "    <tr>\n",
       "      <th>4247</th>\n",
       "      <td>4247</td>\n",
       "      <td>Παρέλαβα την ψηστιέρα.Ολα καλά με την παραγγ...</td>\n",
       "      <td>Positive</td>\n",
       "    </tr>\n",
       "  </tbody>\n",
       "</table>\n",
       "</div>"
      ],
      "text/plain": [
       "        id                                             review     label\n",
       "4745  4745    Εγώ έχω να πω ότι παρήγγειλα εν μέσω καραντί...  Positive\n",
       "4575  4575    Το μόνο αρνητικό  η παραγγελία δεν παρακολου...  Positive\n",
       "5092  5092    Αριστη εξυπηρέτηση πελατών. Ακόμα και σε περ...  Positive\n",
       "4064  4064    Στις 22-7-2015 τοποθέτησα παραγγελία για ένα...  Negative\n",
       "615    615    Γρηγορή παραλαβή προς το παρόν δεν αντιμετώπ...  Positive\n",
       "1256  1256       Αριστο μαγαζί. Συνιστάται ανεπιφύλακτα..      Positive\n",
       "3758  3758    Παραγγειλαμε προϊόν που ήταν διαθέσιμο το οπ...  Negative\n",
       "3879  3879    Έκανα την παραγγελία μου για μία καφετιέρα φ...  Negative\n",
       "5207  5207    Η παραγγελία έχει αργήσει πέραν του κανονικο...  Negative\n",
       "2877  2877                       Ασυναγώνιστο κατάστημα !      Positive\n",
       "4706  4706    Το μόνο για το οποίο μπορώ να παραπονεθώ είν...  Positive\n",
       "1081  1081    Δεν είναι η πρώτη φορά που αγοράζουμε απο το...  Positive\n",
       "5634  5634    Όλα καλά με την παραγγελία και την αποστολή ...  Negative\n",
       "1860  1860    Πραγματικά είχα αρκετό καιρό να δεχθώ τόσο κ...  Negative\n",
       "5598  5598    Στις 4.05.20 παρήγγειλα ενα τροφοδοτικό απο ...  Negative\n",
       "897    897    Ολα στην ωρα τους προσεγμένη συσκευασία το σ...  Positive\n",
       "1692  1692    Δε θα έλεγα ότι είχα και την καλύτερη εμπειρ...  Negative\n",
       "1790  1790    Ειμαι μαγειρας  παραγγειλα την καλυτερη κουζ...  Negative\n",
       "2418  2418    Με λίγα λόγια  η εμπειρία μου από το συγκεκρ...  Positive\n",
       "4247  4247    Παρέλαβα την ψηστιέρα.Ολα καλά με την παραγγ...  Positive"
      ]
     },
     "execution_count": 2,
     "metadata": {},
     "output_type": "execute_result"
    }
   ],
   "source": [
    "raw_data = pd.read_excel('Skroutz_dataset.xlsx')\n",
    "data = raw_data.sample(frac = 1)\n",
    "data.head(20)"
   ]
  },
  {
   "cell_type": "code",
   "execution_count": 3,
   "id": "056499fd",
   "metadata": {},
   "outputs": [],
   "source": [
    "reviews = data.review\n",
    "labels = data.label.apply(lambda x: 1 if x == 'Positive' else 0)"
   ]
  },
  {
   "cell_type": "code",
   "execution_count": 4,
   "id": "5a33c600",
   "metadata": {},
   "outputs": [
    {
     "data": {
      "text/plain": [
       "(6552, 5241, 1311, True)"
      ]
     },
     "execution_count": 4,
     "metadata": {},
     "output_type": "execute_result"
    }
   ],
   "source": [
    "split_size = int(len(reviews)*0.8)\n",
    "training_reviews = reviews[:split_size]\n",
    "testing_reviews = reviews[split_size:]\n",
    "training_labels = labels[:split_size]\n",
    "testing_labels = labels[split_size:]\n",
    "len(reviews), len(training_reviews), len(testing_reviews), (len(training_reviews) + len(testing_reviews)) == len(reviews) "
   ]
  },
  {
   "cell_type": "code",
   "execution_count": 5,
   "id": "45947a05",
   "metadata": {},
   "outputs": [
    {
     "data": {
      "text/plain": [
       "(6552, 5241, 1311, True)"
      ]
     },
     "execution_count": 5,
     "metadata": {},
     "output_type": "execute_result"
    }
   ],
   "source": [
    "len(reviews), len(training_labels), len(testing_labels), (len(training_labels) + len(testing_labels)) == len(reviews) "
   ]
  },
  {
   "cell_type": "code",
   "execution_count": 6,
   "id": "c2797945",
   "metadata": {},
   "outputs": [],
   "source": [
    "vocab_size = 10000\n",
    "max_length = 120\n",
    "\n",
    "tokenizer = Tokenizer(num_words=10000)\n",
    "tokenizer.fit_on_texts(training_reviews)\n",
    "\n",
    "training_sequences = tokenizer.texts_to_sequences(training_reviews)\n",
    "training_padded = pad_sequences(training_sequences, maxlen=max_length)\n",
    "\n",
    "testing_sequences = tokenizer.texts_to_sequences(testing_reviews)\n",
    "testing_padded = pad_sequences(testing_sequences, maxlen=max_length)"
   ]
  },
  {
   "cell_type": "code",
   "execution_count": 7,
   "id": "c7f7e12b",
   "metadata": {},
   "outputs": [
    {
     "data": {
      "text/plain": [
       "[2,\n",
       " 85,\n",
       " 8,\n",
       " 2,\n",
       " 115,\n",
       " 269,\n",
       " 3,\n",
       " 4664,\n",
       " 21,\n",
       " 9,\n",
       " 6355,\n",
       " 16,\n",
       " 1303,\n",
       " 8,\n",
       " 4,\n",
       " 71,\n",
       " 10,\n",
       " 4,\n",
       " 122,\n",
       " 57,\n",
       " 45,\n",
       " 2235,\n",
       " 196,\n",
       " 39,\n",
       " 3431,\n",
       " 200,\n",
       " 24,\n",
       " 581,\n",
       " 146,\n",
       " 206,\n",
       " 798,\n",
       " 9,\n",
       " 71,\n",
       " 10,\n",
       " 18,\n",
       " 305,\n",
       " 214,\n",
       " 27,\n",
       " 68,\n",
       " 1304,\n",
       " 1973,\n",
       " 1,\n",
       " 278,\n",
       " 45,\n",
       " 2235,\n",
       " 636,\n",
       " 14,\n",
       " 73,\n",
       " 18,\n",
       " 288,\n",
       " 24,\n",
       " 8065,\n",
       " 71,\n",
       " 14,\n",
       " 996,\n",
       " 10,\n",
       " 274,\n",
       " 303,\n",
       " 1,\n",
       " 2135,\n",
       " 48,\n",
       " 8,\n",
       " 4,\n",
       " 203,\n",
       " 16,\n",
       " 44,\n",
       " 6,\n",
       " 1362,\n",
       " 1,\n",
       " 6,\n",
       " 456,\n",
       " 5365,\n",
       " 8066,\n",
       " 3774]"
      ]
     },
     "execution_count": 7,
     "metadata": {},
     "output_type": "execute_result"
    }
   ],
   "source": [
    "training_sequences[10]"
   ]
  },
  {
   "cell_type": "code",
   "execution_count": 8,
   "id": "a2a064aa",
   "metadata": {},
   "outputs": [
    {
     "name": "stdout",
     "output_type": "stream",
     "text": [
      "το\n",
      "μόνο\n",
      "για\n",
      "το\n",
      "οποίο\n",
      "μπορώ\n",
      "να\n",
      "παραπονεθώ\n",
      "είναι\n",
      "η\n",
      "αύξηση\n",
      "της\n",
      "τιμής\n",
      "για\n",
      "την\n",
      "παραλαβή\n",
      "από\n",
      "την\n",
      "acs\n",
      "στα\n",
      "1\n",
      "49\n",
      "ευρώ\n",
      "αν\n",
      "θυμάμαι\n",
      "καλά\n",
      "ήταν\n",
      "δωρεάν\n",
      "πριν\n",
      "κάποια\n",
      "χρόνια\n",
      "η\n",
      "παραλαβή\n",
      "από\n",
      "τα\n",
      "καταστήματα\n",
      "you\n",
      "μετά\n",
      "έγινε\n",
      "0\n",
      "99\n",
      "και\n",
      "τώρα\n",
      "1\n",
      "49\n",
      "ωστόσο\n",
      "σε\n",
      "όλα\n",
      "τα\n",
      "άλλα\n",
      "ήταν\n",
      "τέλειοι\n",
      "παραλαβή\n",
      "σε\n",
      "λιγότερο\n",
      "από\n",
      "24\n",
      "ώρες\n",
      "και\n",
      "πλήρης\n",
      "ενημέρωση\n",
      "για\n",
      "την\n",
      "κατάσταση\n",
      "της\n",
      "παραγγελίας\n",
      "με\n",
      "emails\n",
      "και\n",
      "με\n",
      "sms\n",
      "keep\n",
      "it\n",
      "up\n"
     ]
    }
   ],
   "source": [
    "for i in training_sequences[10]:\n",
    "    print(tokenizer.index_word[i])"
   ]
  },
  {
   "cell_type": "code",
   "execution_count": 9,
   "id": "a44682bc",
   "metadata": {},
   "outputs": [
    {
     "data": {
      "text/plain": [
       "array([   0,    0,    0,    0,    0,    0,    0,    0,    0,    0,    0,\n",
       "          0,    0,    0,    0,    0,    0,    0,    0,    0,    0,    0,\n",
       "          0,    0,    0,    0,    0,    0,    0,    0,    0,    0,    0,\n",
       "          0,    0,    0,    0,    0,    0,    0,    0,    0,    0,    0,\n",
       "          0,    0,    2,   85,    8,    2,  115,  269,    3, 4664,   21,\n",
       "          9, 6355,   16, 1303,    8,    4,   71,   10,    4,  122,   57,\n",
       "         45, 2235,  196,   39, 3431,  200,   24,  581,  146,  206,  798,\n",
       "          9,   71,   10,   18,  305,  214,   27,   68, 1304, 1973,    1,\n",
       "        278,   45, 2235,  636,   14,   73,   18,  288,   24, 8065,   71,\n",
       "         14,  996,   10,  274,  303,    1, 2135,   48,    8,    4,  203,\n",
       "         16,   44,    6, 1362,    1,    6,  456, 5365, 8066, 3774])"
      ]
     },
     "execution_count": 9,
     "metadata": {},
     "output_type": "execute_result"
    }
   ],
   "source": [
    "training_padded[10]"
   ]
  },
  {
   "cell_type": "code",
   "execution_count": 10,
   "id": "9d1fdc29",
   "metadata": {},
   "outputs": [
    {
     "name": "stdout",
     "output_type": "stream",
     "text": [
      "Model: \"sequential\"\n",
      "_________________________________________________________________\n",
      "Layer (type)                 Output Shape              Param #   \n",
      "=================================================================\n",
      "embedding (Embedding)        (None, 120, 16)           160000    \n",
      "_________________________________________________________________\n",
      "flatten (Flatten)            (None, 1920)              0         \n",
      "_________________________________________________________________\n",
      "dense (Dense)                (None, 16)                30736     \n",
      "_________________________________________________________________\n",
      "dense_1 (Dense)              (None, 1)                 17        \n",
      "=================================================================\n",
      "Total params: 190,753\n",
      "Trainable params: 190,753\n",
      "Non-trainable params: 0\n",
      "_________________________________________________________________\n"
     ]
    }
   ],
   "source": [
    "model = tf.keras.models.Sequential([\n",
    "    tf.keras.layers.Embedding(vocab_size, 16, input_length=max_length),\n",
    "    tf.keras.layers.Flatten(),\n",
    "    tf.keras.layers.Dense(16, activation='relu'),\n",
    "    tf.keras.layers.Dense(1, activation='sigmoid')\n",
    "])\n",
    "\n",
    "model.compile(loss='binary_crossentropy',\n",
    "             optimizer=tf.optimizers.Adam(),\n",
    "             metrics=['accuracy'])\n",
    "\n",
    "model.summary()"
   ]
  },
  {
   "cell_type": "code",
   "execution_count": 11,
   "id": "e7f2ac81",
   "metadata": {},
   "outputs": [
    {
     "name": "stdout",
     "output_type": "stream",
     "text": [
      "Epoch 1/10\n",
      "164/164 [==============================] - 1s 2ms/step - loss: 0.4448 - accuracy: 0.8094 - val_loss: 0.2458 - val_accuracy: 0.9085\n",
      "Epoch 2/10\n",
      "164/164 [==============================] - 0s 1ms/step - loss: 0.1643 - accuracy: 0.9405 - val_loss: 0.1558 - val_accuracy: 0.9428\n",
      "Epoch 3/10\n",
      "164/164 [==============================] - 0s 1ms/step - loss: 0.0731 - accuracy: 0.9790 - val_loss: 0.1542 - val_accuracy: 0.9420\n",
      "Epoch 4/10\n",
      "164/164 [==============================] - 0s 1ms/step - loss: 0.0366 - accuracy: 0.9903 - val_loss: 0.1718 - val_accuracy: 0.9390\n",
      "Epoch 5/10\n",
      "164/164 [==============================] - 0s 1ms/step - loss: 0.0189 - accuracy: 0.9969 - val_loss: 0.1657 - val_accuracy: 0.9428\n",
      "Epoch 6/10\n",
      "164/164 [==============================] - 0s 1ms/step - loss: 0.0117 - accuracy: 0.9975 - val_loss: 0.1733 - val_accuracy: 0.9436\n",
      "Epoch 7/10\n",
      "164/164 [==============================] - 0s 1ms/step - loss: 0.0062 - accuracy: 0.9992 - val_loss: 0.1826 - val_accuracy: 0.9436\n",
      "Epoch 8/10\n",
      "164/164 [==============================] - 0s 1ms/step - loss: 0.0051 - accuracy: 0.9990 - val_loss: 0.1989 - val_accuracy: 0.9436\n",
      "Epoch 9/10\n",
      "164/164 [==============================] - 0s 1ms/step - loss: 0.0036 - accuracy: 0.9996 - val_loss: 0.2090 - val_accuracy: 0.9375\n",
      "Epoch 10/10\n",
      "164/164 [==============================] - 0s 1ms/step - loss: 0.0035 - accuracy: 0.9992 - val_loss: 0.2167 - val_accuracy: 0.9375\n"
     ]
    },
    {
     "data": {
      "text/plain": [
       "<keras.callbacks.History at 0x1dece21e2b0>"
      ]
     },
     "execution_count": 11,
     "metadata": {},
     "output_type": "execute_result"
    }
   ],
   "source": [
    "model.fit(training_padded, training_labels, epochs=10, validation_data=(testing_padded, testing_labels))"
   ]
  },
  {
   "cell_type": "code",
   "execution_count": 12,
   "id": "23a4796a",
   "metadata": {},
   "outputs": [
    {
     "data": {
      "text/plain": [
       "0.9374523162841797"
      ]
     },
     "execution_count": 12,
     "metadata": {},
     "output_type": "execute_result"
    }
   ],
   "source": [
    "model.evaluate(testing_padded, testing_labels, verbose=0)[1]"
   ]
  }
 ],
 "metadata": {
  "kernelspec": {
   "display_name": "Python 3",
   "language": "python",
   "name": "python3"
  },
  "language_info": {
   "codemirror_mode": {
    "name": "ipython",
    "version": 3
   },
   "file_extension": ".py",
   "mimetype": "text/x-python",
   "name": "python",
   "nbconvert_exporter": "python",
   "pygments_lexer": "ipython3",
   "version": "3.8.8"
  }
 },
 "nbformat": 4,
 "nbformat_minor": 5
}
