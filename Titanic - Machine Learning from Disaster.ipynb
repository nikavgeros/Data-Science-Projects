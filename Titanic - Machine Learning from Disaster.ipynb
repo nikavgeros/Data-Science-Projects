{
 "cells": [
  {
   "cell_type": "code",
   "execution_count": 1,
   "id": "ecb19172",
   "metadata": {},
   "outputs": [],
   "source": [
    "import pandas as pd\n",
    "import numpy as np\n",
    "import matplotlib.pyplot as plt\n",
    "import math\n",
    "import warnings\n",
    "warnings.filterwarnings(\"ignore\")\n",
    "\n",
    "# TensorFlow \n",
    "from tensorflow.keras import Sequential\n",
    "from tensorflow.keras.layers import Dense\n",
    "from tensorflow.keras.optimizers import Adam\n",
    "from tensorflow.nn import relu, sigmoid\n",
    "\n",
    "# Scikit Learn \n",
    "from sklearn.preprocessing import StandardScaler\n",
    "from sklearn.linear_model import SGDClassifier, LogisticRegression\n",
    "from sklearn.neighbors import KNeighborsClassifier\n",
    "from sklearn.ensemble import RandomForestClassifier\n",
    "from sklearn.svm import SVC\n",
    "from sklearn.tree import DecisionTreeClassifier\n",
    "from sklearn.metrics import accuracy_score, confusion_matrix"
   ]
  },
  {
   "cell_type": "code",
   "execution_count": 2,
   "id": "55c09f36",
   "metadata": {},
   "outputs": [],
   "source": [
    "train = pd.read_csv('train.csv')\n",
    "test = pd.read_csv('test.csv')\n",
    "gender_submission = pd.read_csv('gender_submission.csv')"
   ]
  },
  {
   "cell_type": "code",
   "execution_count": 3,
   "id": "1aa851fb",
   "metadata": {},
   "outputs": [
    {
     "name": "stdout",
     "output_type": "stream",
     "text": [
      "<class 'pandas.core.frame.DataFrame'>\n",
      "RangeIndex: 891 entries, 0 to 890\n",
      "Data columns (total 12 columns):\n",
      " #   Column       Non-Null Count  Dtype  \n",
      "---  ------       --------------  -----  \n",
      " 0   PassengerId  891 non-null    int64  \n",
      " 1   Survived     891 non-null    int64  \n",
      " 2   Pclass       891 non-null    int64  \n",
      " 3   Name         891 non-null    object \n",
      " 4   Sex          891 non-null    object \n",
      " 5   Age          714 non-null    float64\n",
      " 6   SibSp        891 non-null    int64  \n",
      " 7   Parch        891 non-null    int64  \n",
      " 8   Ticket       891 non-null    object \n",
      " 9   Fare         891 non-null    float64\n",
      " 10  Cabin        204 non-null    object \n",
      " 11  Embarked     889 non-null    object \n",
      "dtypes: float64(2), int64(5), object(5)\n",
      "memory usage: 83.7+ KB\n",
      "None\n",
      "\n",
      "<class 'pandas.core.frame.DataFrame'>\n",
      "RangeIndex: 418 entries, 0 to 417\n",
      "Data columns (total 11 columns):\n",
      " #   Column       Non-Null Count  Dtype  \n",
      "---  ------       --------------  -----  \n",
      " 0   PassengerId  418 non-null    int64  \n",
      " 1   Pclass       418 non-null    int64  \n",
      " 2   Name         418 non-null    object \n",
      " 3   Sex          418 non-null    object \n",
      " 4   Age          332 non-null    float64\n",
      " 5   SibSp        418 non-null    int64  \n",
      " 6   Parch        418 non-null    int64  \n",
      " 7   Ticket       418 non-null    object \n",
      " 8   Fare         417 non-null    float64\n",
      " 9   Cabin        91 non-null     object \n",
      " 10  Embarked     418 non-null    object \n",
      "dtypes: float64(2), int64(4), object(5)\n",
      "memory usage: 36.0+ KB\n",
      "None\n"
     ]
    }
   ],
   "source": [
    "print(train.info(), end='\\n\\n')\n",
    "print(test.info())"
   ]
  },
  {
   "cell_type": "code",
   "execution_count": 4,
   "id": "14e68e40",
   "metadata": {},
   "outputs": [
    {
     "data": {
      "text/html": [
       "<div>\n",
       "<style scoped>\n",
       "    .dataframe tbody tr th:only-of-type {\n",
       "        vertical-align: middle;\n",
       "    }\n",
       "\n",
       "    .dataframe tbody tr th {\n",
       "        vertical-align: top;\n",
       "    }\n",
       "\n",
       "    .dataframe thead th {\n",
       "        text-align: right;\n",
       "    }\n",
       "</style>\n",
       "<table border=\"1\" class=\"dataframe\">\n",
       "  <thead>\n",
       "    <tr style=\"text-align: right;\">\n",
       "      <th></th>\n",
       "      <th>Train</th>\n",
       "      <th>Test</th>\n",
       "      <th>% Train</th>\n",
       "      <th>% Test</th>\n",
       "    </tr>\n",
       "  </thead>\n",
       "  <tbody>\n",
       "    <tr>\n",
       "      <th>Age</th>\n",
       "      <td>177</td>\n",
       "      <td>86.0</td>\n",
       "      <td>0.20</td>\n",
       "      <td>0.21</td>\n",
       "    </tr>\n",
       "    <tr>\n",
       "      <th>Cabin</th>\n",
       "      <td>687</td>\n",
       "      <td>327.0</td>\n",
       "      <td>0.77</td>\n",
       "      <td>0.78</td>\n",
       "    </tr>\n",
       "    <tr>\n",
       "      <th>Embarked</th>\n",
       "      <td>2</td>\n",
       "      <td>0.0</td>\n",
       "      <td>0.00</td>\n",
       "      <td>0.00</td>\n",
       "    </tr>\n",
       "    <tr>\n",
       "      <th>Fare</th>\n",
       "      <td>0</td>\n",
       "      <td>1.0</td>\n",
       "      <td>0.00</td>\n",
       "      <td>0.00</td>\n",
       "    </tr>\n",
       "    <tr>\n",
       "      <th>Name</th>\n",
       "      <td>0</td>\n",
       "      <td>0.0</td>\n",
       "      <td>0.00</td>\n",
       "      <td>0.00</td>\n",
       "    </tr>\n",
       "    <tr>\n",
       "      <th>Parch</th>\n",
       "      <td>0</td>\n",
       "      <td>0.0</td>\n",
       "      <td>0.00</td>\n",
       "      <td>0.00</td>\n",
       "    </tr>\n",
       "    <tr>\n",
       "      <th>PassengerId</th>\n",
       "      <td>0</td>\n",
       "      <td>0.0</td>\n",
       "      <td>0.00</td>\n",
       "      <td>0.00</td>\n",
       "    </tr>\n",
       "    <tr>\n",
       "      <th>Pclass</th>\n",
       "      <td>0</td>\n",
       "      <td>0.0</td>\n",
       "      <td>0.00</td>\n",
       "      <td>0.00</td>\n",
       "    </tr>\n",
       "    <tr>\n",
       "      <th>Sex</th>\n",
       "      <td>0</td>\n",
       "      <td>0.0</td>\n",
       "      <td>0.00</td>\n",
       "      <td>0.00</td>\n",
       "    </tr>\n",
       "    <tr>\n",
       "      <th>SibSp</th>\n",
       "      <td>0</td>\n",
       "      <td>0.0</td>\n",
       "      <td>0.00</td>\n",
       "      <td>0.00</td>\n",
       "    </tr>\n",
       "    <tr>\n",
       "      <th>Survived</th>\n",
       "      <td>0</td>\n",
       "      <td>NaN</td>\n",
       "      <td>0.00</td>\n",
       "      <td>NaN</td>\n",
       "    </tr>\n",
       "    <tr>\n",
       "      <th>Ticket</th>\n",
       "      <td>0</td>\n",
       "      <td>0.0</td>\n",
       "      <td>0.00</td>\n",
       "      <td>0.00</td>\n",
       "    </tr>\n",
       "  </tbody>\n",
       "</table>\n",
       "</div>"
      ],
      "text/plain": [
       "             Train   Test  % Train  % Test\n",
       "Age            177   86.0     0.20    0.21\n",
       "Cabin          687  327.0     0.77    0.78\n",
       "Embarked         2    0.0     0.00    0.00\n",
       "Fare             0    1.0     0.00    0.00\n",
       "Name             0    0.0     0.00    0.00\n",
       "Parch            0    0.0     0.00    0.00\n",
       "PassengerId      0    0.0     0.00    0.00\n",
       "Pclass           0    0.0     0.00    0.00\n",
       "Sex              0    0.0     0.00    0.00\n",
       "SibSp            0    0.0     0.00    0.00\n",
       "Survived         0    NaN     0.00     NaN\n",
       "Ticket           0    0.0     0.00    0.00"
      ]
     },
     "execution_count": 4,
     "metadata": {},
     "output_type": "execute_result"
    }
   ],
   "source": [
    "def missing_values(train=train, test=test):\n",
    "    train_null = train.isnull().sum()\n",
    "    test_null = test.isnull().sum()\n",
    "    return pd.DataFrame({\n",
    "        'Train': train_null, \n",
    "        'Test': test_null,\n",
    "        '% Train': round(train_null/len(train), 2),\n",
    "        '% Test': round(test_null/len(test), 2)\n",
    "    })\n",
    "missing_values(train, test)"
   ]
  },
  {
   "cell_type": "code",
   "execution_count": 5,
   "id": "3d9133b3",
   "metadata": {},
   "outputs": [
    {
     "name": "stdout",
     "output_type": "stream",
     "text": [
      "Train Survived: [0 1]\n",
      "Τest Survived: [0 1]\n"
     ]
    }
   ],
   "source": [
    "print(f'Train Survived: {train.Survived.unique()}')\n",
    "print(f'Τest Survived: {gender_submission.Survived.unique()}')"
   ]
  },
  {
   "cell_type": "code",
   "execution_count": 6,
   "id": "8b64b44f",
   "metadata": {},
   "outputs": [],
   "source": [
    "train.Age = train.Age.apply(lambda age: math.ceil(train.Age.mean()) if pd.isna(age) else age).astype(int)\n",
    "test.Age = test.Age.apply(lambda age: math.ceil(test.Age.mean()) if pd.isna(age) else age).astype(int)"
   ]
  },
  {
   "cell_type": "code",
   "execution_count": 7,
   "id": "48c0cc2a",
   "metadata": {},
   "outputs": [
    {
     "name": "stdout",
     "output_type": "stream",
     "text": [
      "False\n",
      "False\n"
     ]
    }
   ],
   "source": [
    "print(train.duplicated().any())\n",
    "print(test.duplicated().any())"
   ]
  },
  {
   "cell_type": "code",
   "execution_count": 8,
   "id": "5343f97a",
   "metadata": {},
   "outputs": [
    {
     "data": {
      "text/plain": [
       "S    644\n",
       "C    168\n",
       "Q     77\n",
       "Name: Embarked, dtype: int64"
      ]
     },
     "execution_count": 8,
     "metadata": {},
     "output_type": "execute_result"
    }
   ],
   "source": [
    "train.Embarked.value_counts()"
   ]
  },
  {
   "cell_type": "code",
   "execution_count": 9,
   "id": "3be45828",
   "metadata": {},
   "outputs": [],
   "source": [
    "train.Embarked.where(pd.isna(train.Embarked)==False, other='S', inplace=True) "
   ]
  },
  {
   "cell_type": "code",
   "execution_count": 10,
   "id": "7b64f832",
   "metadata": {},
   "outputs": [],
   "source": [
    "test.Fare.where(pd.isna(test.Fare)==False, other=test.Fare.mean(), inplace=True) "
   ]
  },
  {
   "cell_type": "code",
   "execution_count": 11,
   "id": "63fa5059",
   "metadata": {},
   "outputs": [
    {
     "data": {
      "text/html": [
       "<div>\n",
       "<style scoped>\n",
       "    .dataframe tbody tr th:only-of-type {\n",
       "        vertical-align: middle;\n",
       "    }\n",
       "\n",
       "    .dataframe tbody tr th {\n",
       "        vertical-align: top;\n",
       "    }\n",
       "\n",
       "    .dataframe thead th {\n",
       "        text-align: right;\n",
       "    }\n",
       "</style>\n",
       "<table border=\"1\" class=\"dataframe\">\n",
       "  <thead>\n",
       "    <tr style=\"text-align: right;\">\n",
       "      <th></th>\n",
       "      <th>Train</th>\n",
       "      <th>Test</th>\n",
       "      <th>% Train</th>\n",
       "      <th>% Test</th>\n",
       "    </tr>\n",
       "  </thead>\n",
       "  <tbody>\n",
       "    <tr>\n",
       "      <th>Age</th>\n",
       "      <td>0</td>\n",
       "      <td>0.0</td>\n",
       "      <td>0.00</td>\n",
       "      <td>0.00</td>\n",
       "    </tr>\n",
       "    <tr>\n",
       "      <th>Cabin</th>\n",
       "      <td>687</td>\n",
       "      <td>327.0</td>\n",
       "      <td>0.77</td>\n",
       "      <td>0.78</td>\n",
       "    </tr>\n",
       "    <tr>\n",
       "      <th>Embarked</th>\n",
       "      <td>0</td>\n",
       "      <td>0.0</td>\n",
       "      <td>0.00</td>\n",
       "      <td>0.00</td>\n",
       "    </tr>\n",
       "    <tr>\n",
       "      <th>Fare</th>\n",
       "      <td>0</td>\n",
       "      <td>0.0</td>\n",
       "      <td>0.00</td>\n",
       "      <td>0.00</td>\n",
       "    </tr>\n",
       "    <tr>\n",
       "      <th>Name</th>\n",
       "      <td>0</td>\n",
       "      <td>0.0</td>\n",
       "      <td>0.00</td>\n",
       "      <td>0.00</td>\n",
       "    </tr>\n",
       "    <tr>\n",
       "      <th>Parch</th>\n",
       "      <td>0</td>\n",
       "      <td>0.0</td>\n",
       "      <td>0.00</td>\n",
       "      <td>0.00</td>\n",
       "    </tr>\n",
       "    <tr>\n",
       "      <th>PassengerId</th>\n",
       "      <td>0</td>\n",
       "      <td>0.0</td>\n",
       "      <td>0.00</td>\n",
       "      <td>0.00</td>\n",
       "    </tr>\n",
       "    <tr>\n",
       "      <th>Pclass</th>\n",
       "      <td>0</td>\n",
       "      <td>0.0</td>\n",
       "      <td>0.00</td>\n",
       "      <td>0.00</td>\n",
       "    </tr>\n",
       "    <tr>\n",
       "      <th>Sex</th>\n",
       "      <td>0</td>\n",
       "      <td>0.0</td>\n",
       "      <td>0.00</td>\n",
       "      <td>0.00</td>\n",
       "    </tr>\n",
       "    <tr>\n",
       "      <th>SibSp</th>\n",
       "      <td>0</td>\n",
       "      <td>0.0</td>\n",
       "      <td>0.00</td>\n",
       "      <td>0.00</td>\n",
       "    </tr>\n",
       "    <tr>\n",
       "      <th>Survived</th>\n",
       "      <td>0</td>\n",
       "      <td>NaN</td>\n",
       "      <td>0.00</td>\n",
       "      <td>NaN</td>\n",
       "    </tr>\n",
       "    <tr>\n",
       "      <th>Ticket</th>\n",
       "      <td>0</td>\n",
       "      <td>0.0</td>\n",
       "      <td>0.00</td>\n",
       "      <td>0.00</td>\n",
       "    </tr>\n",
       "  </tbody>\n",
       "</table>\n",
       "</div>"
      ],
      "text/plain": [
       "             Train   Test  % Train  % Test\n",
       "Age              0    0.0     0.00    0.00\n",
       "Cabin          687  327.0     0.77    0.78\n",
       "Embarked         0    0.0     0.00    0.00\n",
       "Fare             0    0.0     0.00    0.00\n",
       "Name             0    0.0     0.00    0.00\n",
       "Parch            0    0.0     0.00    0.00\n",
       "PassengerId      0    0.0     0.00    0.00\n",
       "Pclass           0    0.0     0.00    0.00\n",
       "Sex              0    0.0     0.00    0.00\n",
       "SibSp            0    0.0     0.00    0.00\n",
       "Survived         0    NaN     0.00     NaN\n",
       "Ticket           0    0.0     0.00    0.00"
      ]
     },
     "execution_count": 11,
     "metadata": {},
     "output_type": "execute_result"
    }
   ],
   "source": [
    "missing_values(train, test)"
   ]
  },
  {
   "cell_type": "code",
   "execution_count": 12,
   "id": "07e0a56e",
   "metadata": {},
   "outputs": [],
   "source": [
    "columns_to_drop = ['Name', 'Cabin', 'Ticket', 'PassengerId']\n",
    "for column in columns_to_drop:\n",
    "    train.drop(column, axis=1, inplace=True)\n",
    "    test.drop(column, axis=1, inplace=True)"
   ]
  },
  {
   "cell_type": "code",
   "execution_count": 13,
   "id": "c9542beb",
   "metadata": {},
   "outputs": [],
   "source": [
    "train = pd.get_dummies(train)\n",
    "test = pd.get_dummies(test)"
   ]
  },
  {
   "cell_type": "code",
   "execution_count": 14,
   "id": "a920b98a",
   "metadata": {},
   "outputs": [],
   "source": [
    "numerical_features = ['Fare', 'Age']\n",
    "scaler = StandardScaler(0, 1)\n",
    "\n",
    "for column in numerical_features:\n",
    "    train[column] = scaler.fit_transform(pd.DataFrame(train[column]))\n",
    "    test[column] = scaler.fit_transform(pd.DataFrame(test[column]))"
   ]
  },
  {
   "cell_type": "code",
   "execution_count": 15,
   "id": "7db0cc81",
   "metadata": {},
   "outputs": [
    {
     "data": {
      "text/plain": [
       "((891, 10), (891,), (418, 10), (418,))"
      ]
     },
     "execution_count": 15,
     "metadata": {},
     "output_type": "execute_result"
    }
   ],
   "source": [
    "x_train = train.drop('Survived', axis=1).values\n",
    "y_train = train.Survived.values\n",
    "x_test = test.values\n",
    "y_test = gender_submission.Survived.values\n",
    "x_train.shape, y_train.shape, x_test.shape, y_test.shape"
   ]
  },
  {
   "cell_type": "code",
   "execution_count": 16,
   "id": "fb915b2b",
   "metadata": {},
   "outputs": [
    {
     "name": "stdout",
     "output_type": "stream",
     "text": [
      "Accuracy score: 94.0%\n"
     ]
    }
   ],
   "source": [
    "# Logistic Regression\n",
    "logistic_regression = LogisticRegression(random_state=42)\n",
    "logistic_regression.fit(x_train, y_train)\n",
    "logistic_regression_predictions = logistic_regression.predict(x_test)\n",
    "logistic_regression_confusion_matrix = confusion_matrix(y_test, logistic_regression_predictions)\n",
    "logistic_regression_score = round(accuracy_score(y_test, logistic_regression_predictions), 2)\n",
    "print(f'Accuracy score: {logistic_regression_score * 100}%')"
   ]
  },
  {
   "cell_type": "code",
   "execution_count": 17,
   "id": "a726abfe",
   "metadata": {},
   "outputs": [
    {
     "name": "stdout",
     "output_type": "stream",
     "text": [
      "Accuracy score: 84.0%\n"
     ]
    }
   ],
   "source": [
    "# KNeighbors Classifier\n",
    "kneighbors = KNeighborsClassifier()\n",
    "kneighbors.fit(x_train, y_train)\n",
    "kneighbors_predictions = kneighbors.predict(x_test)\n",
    "kneighbors_confusion_matrix = confusion_matrix(y_test, kneighbors_predictions)\n",
    "kneighbors_score = round(accuracy_score(y_test, kneighbors_predictions), 2)\n",
    "print(f'Accuracy score: {kneighbors_score * 100}%')"
   ]
  },
  {
   "cell_type": "code",
   "execution_count": 18,
   "id": "c8b82d40",
   "metadata": {},
   "outputs": [
    {
     "name": "stdout",
     "output_type": "stream",
     "text": [
      "Accuracy score: 95.0%\n"
     ]
    }
   ],
   "source": [
    "# Stochastic Gradient Descent Classifier\n",
    "sgd = SGDClassifier(random_state=42)\n",
    "sgd.fit(x_train, y_train)\n",
    "sgd_predictions = sgd.predict(x_test)\n",
    "sgd_confusion_matrix = confusion_matrix(y_test, sgd_predictions)\n",
    "sgd_score = round(accuracy_score(y_test, sgd_predictions), 2)\n",
    "print(f'Accuracy score: {sgd_score * 100}%')"
   ]
  },
  {
   "cell_type": "code",
   "execution_count": 19,
   "id": "2c204fad",
   "metadata": {},
   "outputs": [
    {
     "name": "stdout",
     "output_type": "stream",
     "text": [
      "Accuracy score: 79.0%\n"
     ]
    }
   ],
   "source": [
    "# Decision Tree Classifier\n",
    "decision_tree = DecisionTreeClassifier(random_state=42)\n",
    "decision_tree.fit(x_train, y_train)\n",
    "decision_tree_predictions = decision_tree.predict(x_test)\n",
    "decision_tree_confusion_matrix = confusion_matrix(y_test, decision_tree_predictions)\n",
    "decision_tree_score = round(accuracy_score(y_test, decision_tree_predictions), 2)\n",
    "print(f'Accuracy score: {decision_tree_score * 100}%')"
   ]
  },
  {
   "cell_type": "code",
   "execution_count": 20,
   "id": "2c5709da",
   "metadata": {},
   "outputs": [
    {
     "name": "stdout",
     "output_type": "stream",
     "text": [
      "Accuracy score: 83.0%\n"
     ]
    }
   ],
   "source": [
    "# Random Forest Classifier\n",
    "random_forest = RandomForestClassifier(random_state=42)\n",
    "random_forest.fit(x_train, y_train)\n",
    "random_forest_predictions = random_forest.predict(x_test)\n",
    "random_forest_confusion_matrix = confusion_matrix(y_test, random_forest_predictions)\n",
    "random_forest_score = round(accuracy_score(y_test, random_forest_predictions), 2)\n",
    "print(f'Accuracy score: {random_forest_score * 100}%')"
   ]
  },
  {
   "cell_type": "code",
   "execution_count": 21,
   "id": "f4f77ce0",
   "metadata": {},
   "outputs": [
    {
     "name": "stdout",
     "output_type": "stream",
     "text": [
      "Accuracy score: 100.0%\n"
     ]
    }
   ],
   "source": [
    "# C-Support Vector Classification\n",
    "svc = SVC(kernel='linear', random_state=42)\n",
    "svc.fit(x_train, y_train)\n",
    "svc_predictions = svc.predict(x_test)\n",
    "svc_confusion_matrix = confusion_matrix(y_test, svc_predictions)\n",
    "svc_score = round(accuracy_score(y_test, svc_predictions), 2)\n",
    "print(f'Accuracy score: {svc_score * 100}%')"
   ]
  },
  {
   "cell_type": "code",
   "execution_count": 22,
   "id": "65a225c4",
   "metadata": {},
   "outputs": [
    {
     "name": "stdout",
     "output_type": "stream",
     "text": [
      "Model: \"sequential\"\n",
      "_________________________________________________________________\n",
      "Layer (type)                 Output Shape              Param #   \n",
      "=================================================================\n",
      "dense (Dense)                (None, 16)                176       \n",
      "_________________________________________________________________\n",
      "dense_1 (Dense)              (None, 32)                544       \n",
      "_________________________________________________________________\n",
      "dense_2 (Dense)              (None, 1)                 33        \n",
      "=================================================================\n",
      "Total params: 753\n",
      "Trainable params: 753\n",
      "Non-trainable params: 0\n",
      "_________________________________________________________________\n",
      "14/14 [==============================] - 0s 538us/step - loss: 0.2944 - accuracy: 0.9378\n"
     ]
    },
    {
     "data": {
      "text/plain": [
       "[0.2943561375141144, 0.9377990365028381]"
      ]
     },
     "execution_count": 22,
     "metadata": {},
     "output_type": "execute_result"
    }
   ],
   "source": [
    "# Neural Network\n",
    "model = Sequential([\n",
    "    Dense(16, activation=relu, input_shape=(10,)),\n",
    "    Dense(32, activation=relu),\n",
    "    Dense(1, activation=sigmoid)\n",
    "])\n",
    "\n",
    "model.compile(loss='binary_crossentropy',\n",
    "             optimizer=Adam(learning_rate=0.001),\n",
    "             metrics=['accuracy'])\n",
    "\n",
    "model.summary()\n",
    "\n",
    "model.fit(x_train, y_train, epochs=10, validation_data=(x_test, y_test), verbose=0)\n",
    "\n",
    "model.evaluate(x_test, y_test)"
   ]
  },
  {
   "cell_type": "code",
   "execution_count": 23,
   "id": "94cd754b",
   "metadata": {},
   "outputs": [
    {
     "name": "stdout",
     "output_type": "stream",
     "text": [
      "Accuracy score: 94.0%\n"
     ]
    }
   ],
   "source": [
    "neural_network_predictions = model.predict(x_test)\n",
    "neural_network_predictions = [1 if x > 0.5 else 0 for x in neural_network_predictions]\n",
    "neural_network_score = round(accuracy_score(y_test, neural_network_predictions), 2)\n",
    "neural_network_confusion_matrix = confusion_matrix(y_test, neural_network_predictions)\n",
    "print(f'Accuracy score: {neural_network_score * 100}%')"
   ]
  },
  {
   "cell_type": "code",
   "execution_count": 24,
   "id": "47b94641",
   "metadata": {},
   "outputs": [],
   "source": [
    "classification_models = {\n",
    "    \"Predictions\": {\n",
    "        \"Logistic Regression\" : logistic_regression_predictions,\n",
    "        \"KNeighbors\": kneighbors_predictions,\n",
    "        \"Stochastic Gradient Descent\" : sgd_predictions,\n",
    "        \"Decision Tree\" : decision_tree_predictions,\n",
    "        \"Random Forest\": random_forest_predictions,\n",
    "        \"Support Vector Machine\": svc_predictions,\n",
    "        \"Neural Network\" : neural_network_predictions\n",
    "    },\n",
    "    \"Confusion Matrix\": {\n",
    "        \"Logistic Regression\" : logistic_regression_confusion_matrix,\n",
    "        \"KNeighbors\": kneighbors_confusion_matrix,\n",
    "        \"Stochastic Gradient Descent\" : sgd_confusion_matrix,\n",
    "        \"Decision Tree\" : decision_tree_confusion_matrix,\n",
    "        \"Random Forest\": random_forest_confusion_matrix,\n",
    "        \"Support Vector Machine\": svc_confusion_matrix,\n",
    "        \"Neural Network\" : neural_network_confusion_matrix\n",
    "    },\n",
    "    \"Accuracy Score\": {\n",
    "        \"Logistic Regression\" : logistic_regression_score,\n",
    "        \"KNeighbors\": kneighbors_score,\n",
    "        \"Stochastic Gradient Descent\" : sgd_score,\n",
    "        \"Decision Tree\" : decision_tree_score,\n",
    "        \"Random Forest\": random_forest_score,\n",
    "        \"Support Vector Machine\": svc_score,\n",
    "        \"Neural Network\" : neural_network_score\n",
    "    }\n",
    "}"
   ]
  },
  {
   "cell_type": "code",
   "execution_count": 25,
   "id": "3a41202d",
   "metadata": {},
   "outputs": [
    {
     "data": {
      "text/html": [
       "<div>\n",
       "<style scoped>\n",
       "    .dataframe tbody tr th:only-of-type {\n",
       "        vertical-align: middle;\n",
       "    }\n",
       "\n",
       "    .dataframe tbody tr th {\n",
       "        vertical-align: top;\n",
       "    }\n",
       "\n",
       "    .dataframe thead th {\n",
       "        text-align: right;\n",
       "    }\n",
       "</style>\n",
       "<table border=\"1\" class=\"dataframe\">\n",
       "  <thead>\n",
       "    <tr style=\"text-align: right;\">\n",
       "      <th></th>\n",
       "      <th>% Accuracy Score</th>\n",
       "    </tr>\n",
       "  </thead>\n",
       "  <tbody>\n",
       "    <tr>\n",
       "      <th>Logistic Regression</th>\n",
       "      <td>94.0</td>\n",
       "    </tr>\n",
       "    <tr>\n",
       "      <th>KNeighbors</th>\n",
       "      <td>84.0</td>\n",
       "    </tr>\n",
       "    <tr>\n",
       "      <th>Stochastic Gradient Descent</th>\n",
       "      <td>95.0</td>\n",
       "    </tr>\n",
       "    <tr>\n",
       "      <th>Decision Tree</th>\n",
       "      <td>79.0</td>\n",
       "    </tr>\n",
       "    <tr>\n",
       "      <th>Random Forest</th>\n",
       "      <td>83.0</td>\n",
       "    </tr>\n",
       "    <tr>\n",
       "      <th>Support Vector Machine</th>\n",
       "      <td>100.0</td>\n",
       "    </tr>\n",
       "    <tr>\n",
       "      <th>Neural Network</th>\n",
       "      <td>94.0</td>\n",
       "    </tr>\n",
       "  </tbody>\n",
       "</table>\n",
       "</div>"
      ],
      "text/plain": [
       "                             % Accuracy Score\n",
       "Logistic Regression                      94.0\n",
       "KNeighbors                               84.0\n",
       "Stochastic Gradient Descent              95.0\n",
       "Decision Tree                            79.0\n",
       "Random Forest                            83.0\n",
       "Support Vector Machine                  100.0\n",
       "Neural Network                           94.0"
      ]
     },
     "execution_count": 25,
     "metadata": {},
     "output_type": "execute_result"
    }
   ],
   "source": [
    "all_accuracy_scores = pd.DataFrame(\n",
    "    {\"% Accuracy Score\": [score * 100 for score in list(classification_models[\"Accuracy Score\"].values())]}, \n",
    "    index=classification_models[\"Accuracy Score\"].keys()\n",
    ")\n",
    "all_accuracy_scores"
   ]
  },
  {
   "cell_type": "code",
   "execution_count": 26,
   "id": "9ba17a30",
   "metadata": {},
   "outputs": [
    {
     "data": {
      "image/png": "[encoded data removed]",
      "text/plain": [
       "<Figure size 288x144 with 1 Axes>"
      ]
     },
     "metadata": {
      "needs_background": "light"
     },
     "output_type": "display_data"
    },
    {
     "data": {
      "image/png": "[encoded data removed]",
      "text/plain": [
       "<Figure size 288x144 with 1 Axes>"
      ]
     },
     "metadata": {
      "needs_background": "light"
     },
     "output_type": "display_data"
    },
    {
     "data": {
      "image/png": "[encoded data removed]",
      "text/plain": [
       "<Figure size 288x144 with 1 Axes>"
      ]
     },
     "metadata": {
      "needs_background": "light"
     },
     "output_type": "display_data"
    },
    {
     "data": {
      "image/png": "[encoded data removed]",
      "text/plain": [
       "<Figure size 288x144 with 1 Axes>"
      ]
     },
     "metadata": {
      "needs_background": "light"
     },
     "output_type": "display_data"
    },
    {
     "data": {
      "image/png": "[encoded data removed]",
      "text/plain": [
       "<Figure size 288x144 with 1 Axes>"
      ]
     },
     "metadata": {
      "needs_background": "light"
     },
     "output_type": "display_data"
    },
    {
     "data": {
      "image/png": "[encoded data removed]",
      "text/plain": [
       "<Figure size 288x144 with 1 Axes>"
      ]
     },
     "metadata": {
      "needs_background": "light"
     },
     "output_type": "display_data"
    },
    {
     "data": {
      "image/png": "[encoded data removed]",
      "text/plain": [
       "<Figure size 288x144 with 1 Axes>"
      ]
     },
     "metadata": {
      "needs_background": "light"
     },
     "output_type": "display_data"
    }
   ],
   "source": [
    "for model, conf_matrix in (list(classification_models[\"Confusion Matrix\"].items())):\n",
    "    fig, ax = plt.subplots(figsize=(4, 2))\n",
    "    ax.matshow(conf_matrix, cmap=plt.cm.Blues, alpha=0.3)\n",
    "    for i in range(conf_matrix.shape[0]):\n",
    "        for j in range(conf_matrix.shape[1]):\n",
    "            ax.text(x=j, y=i,s=conf_matrix[i, j], va='center', ha='center', size='xx-large')\n",
    "\n",
    "    plt.xlabel('Predictions', fontsize=12)\n",
    "    plt.ylabel('Actuals', fontsize=12)\n",
    "    plt.title(f'{model}', fontsize=16)\n",
    "    plt.show()"
   ]
  },
  {
   "cell_type": "code",
   "execution_count": 27,
   "id": "1dca6265",
   "metadata": {},
   "outputs": [
    {
     "data": {
      "text/html": [
       "<div>\n",
       "<style scoped>\n",
       "    .dataframe tbody tr th:only-of-type {\n",
       "        vertical-align: middle;\n",
       "    }\n",
       "\n",
       "    .dataframe tbody tr th {\n",
       "        vertical-align: top;\n",
       "    }\n",
       "\n",
       "    .dataframe thead th {\n",
       "        text-align: right;\n",
       "    }\n",
       "</style>\n",
       "<table border=\"1\" class=\"dataframe\">\n",
       "  <thead>\n",
       "    <tr style=\"text-align: right;\">\n",
       "      <th></th>\n",
       "      <th>PassengerId</th>\n",
       "      <th>Survived</th>\n",
       "      <th>Logistic Regression</th>\n",
       "      <th>Stochastic Gradient Descent</th>\n",
       "      <th>Decision Tree</th>\n",
       "      <th>Random Forest</th>\n",
       "      <th>KNeighbors</th>\n",
       "      <th>C-Support Vector</th>\n",
       "      <th>Neural Network</th>\n",
       "    </tr>\n",
       "  </thead>\n",
       "  <tbody>\n",
       "    <tr>\n",
       "      <th>0</th>\n",
       "      <td>892</td>\n",
       "      <td>0</td>\n",
       "      <td>0</td>\n",
       "      <td>0</td>\n",
       "      <td>0</td>\n",
       "      <td>0</td>\n",
       "      <td>0</td>\n",
       "      <td>0</td>\n",
       "      <td>0</td>\n",
       "    </tr>\n",
       "    <tr>\n",
       "      <th>1</th>\n",
       "      <td>893</td>\n",
       "      <td>1</td>\n",
       "      <td>0</td>\n",
       "      <td>1</td>\n",
       "      <td>0</td>\n",
       "      <td>0</td>\n",
       "      <td>0</td>\n",
       "      <td>1</td>\n",
       "      <td>0</td>\n",
       "    </tr>\n",
       "    <tr>\n",
       "      <th>2</th>\n",
       "      <td>894</td>\n",
       "      <td>0</td>\n",
       "      <td>0</td>\n",
       "      <td>0</td>\n",
       "      <td>1</td>\n",
       "      <td>0</td>\n",
       "      <td>0</td>\n",
       "      <td>0</td>\n",
       "      <td>0</td>\n",
       "    </tr>\n",
       "    <tr>\n",
       "      <th>3</th>\n",
       "      <td>895</td>\n",
       "      <td>0</td>\n",
       "      <td>0</td>\n",
       "      <td>0</td>\n",
       "      <td>0</td>\n",
       "      <td>0</td>\n",
       "      <td>0</td>\n",
       "      <td>0</td>\n",
       "      <td>0</td>\n",
       "    </tr>\n",
       "    <tr>\n",
       "      <th>4</th>\n",
       "      <td>896</td>\n",
       "      <td>1</td>\n",
       "      <td>1</td>\n",
       "      <td>1</td>\n",
       "      <td>1</td>\n",
       "      <td>1</td>\n",
       "      <td>0</td>\n",
       "      <td>1</td>\n",
       "      <td>1</td>\n",
       "    </tr>\n",
       "    <tr>\n",
       "      <th>5</th>\n",
       "      <td>897</td>\n",
       "      <td>0</td>\n",
       "      <td>0</td>\n",
       "      <td>0</td>\n",
       "      <td>1</td>\n",
       "      <td>0</td>\n",
       "      <td>0</td>\n",
       "      <td>0</td>\n",
       "      <td>0</td>\n",
       "    </tr>\n",
       "    <tr>\n",
       "      <th>6</th>\n",
       "      <td>898</td>\n",
       "      <td>1</td>\n",
       "      <td>1</td>\n",
       "      <td>1</td>\n",
       "      <td>0</td>\n",
       "      <td>0</td>\n",
       "      <td>1</td>\n",
       "      <td>1</td>\n",
       "      <td>1</td>\n",
       "    </tr>\n",
       "    <tr>\n",
       "      <th>7</th>\n",
       "      <td>899</td>\n",
       "      <td>0</td>\n",
       "      <td>0</td>\n",
       "      <td>0</td>\n",
       "      <td>0</td>\n",
       "      <td>0</td>\n",
       "      <td>0</td>\n",
       "      <td>0</td>\n",
       "      <td>0</td>\n",
       "    </tr>\n",
       "    <tr>\n",
       "      <th>8</th>\n",
       "      <td>900</td>\n",
       "      <td>1</td>\n",
       "      <td>1</td>\n",
       "      <td>1</td>\n",
       "      <td>0</td>\n",
       "      <td>1</td>\n",
       "      <td>1</td>\n",
       "      <td>1</td>\n",
       "      <td>1</td>\n",
       "    </tr>\n",
       "    <tr>\n",
       "      <th>9</th>\n",
       "      <td>901</td>\n",
       "      <td>0</td>\n",
       "      <td>0</td>\n",
       "      <td>0</td>\n",
       "      <td>0</td>\n",
       "      <td>0</td>\n",
       "      <td>0</td>\n",
       "      <td>0</td>\n",
       "      <td>0</td>\n",
       "    </tr>\n",
       "    <tr>\n",
       "      <th>10</th>\n",
       "      <td>902</td>\n",
       "      <td>0</td>\n",
       "      <td>0</td>\n",
       "      <td>0</td>\n",
       "      <td>0</td>\n",
       "      <td>0</td>\n",
       "      <td>0</td>\n",
       "      <td>0</td>\n",
       "      <td>0</td>\n",
       "    </tr>\n",
       "    <tr>\n",
       "      <th>11</th>\n",
       "      <td>903</td>\n",
       "      <td>0</td>\n",
       "      <td>0</td>\n",
       "      <td>0</td>\n",
       "      <td>0</td>\n",
       "      <td>0</td>\n",
       "      <td>0</td>\n",
       "      <td>0</td>\n",
       "      <td>0</td>\n",
       "    </tr>\n",
       "    <tr>\n",
       "      <th>12</th>\n",
       "      <td>904</td>\n",
       "      <td>1</td>\n",
       "      <td>1</td>\n",
       "      <td>1</td>\n",
       "      <td>1</td>\n",
       "      <td>1</td>\n",
       "      <td>1</td>\n",
       "      <td>1</td>\n",
       "      <td>1</td>\n",
       "    </tr>\n",
       "    <tr>\n",
       "      <th>13</th>\n",
       "      <td>905</td>\n",
       "      <td>0</td>\n",
       "      <td>0</td>\n",
       "      <td>0</td>\n",
       "      <td>0</td>\n",
       "      <td>0</td>\n",
       "      <td>0</td>\n",
       "      <td>0</td>\n",
       "      <td>0</td>\n",
       "    </tr>\n",
       "    <tr>\n",
       "      <th>14</th>\n",
       "      <td>906</td>\n",
       "      <td>1</td>\n",
       "      <td>1</td>\n",
       "      <td>1</td>\n",
       "      <td>1</td>\n",
       "      <td>1</td>\n",
       "      <td>1</td>\n",
       "      <td>1</td>\n",
       "      <td>1</td>\n",
       "    </tr>\n",
       "    <tr>\n",
       "      <th>15</th>\n",
       "      <td>907</td>\n",
       "      <td>1</td>\n",
       "      <td>1</td>\n",
       "      <td>1</td>\n",
       "      <td>1</td>\n",
       "      <td>1</td>\n",
       "      <td>1</td>\n",
       "      <td>1</td>\n",
       "      <td>1</td>\n",
       "    </tr>\n",
       "    <tr>\n",
       "      <th>16</th>\n",
       "      <td>908</td>\n",
       "      <td>0</td>\n",
       "      <td>0</td>\n",
       "      <td>0</td>\n",
       "      <td>0</td>\n",
       "      <td>0</td>\n",
       "      <td>0</td>\n",
       "      <td>0</td>\n",
       "      <td>0</td>\n",
       "    </tr>\n",
       "    <tr>\n",
       "      <th>17</th>\n",
       "      <td>909</td>\n",
       "      <td>0</td>\n",
       "      <td>0</td>\n",
       "      <td>0</td>\n",
       "      <td>1</td>\n",
       "      <td>1</td>\n",
       "      <td>0</td>\n",
       "      <td>0</td>\n",
       "      <td>0</td>\n",
       "    </tr>\n",
       "    <tr>\n",
       "      <th>18</th>\n",
       "      <td>910</td>\n",
       "      <td>1</td>\n",
       "      <td>1</td>\n",
       "      <td>1</td>\n",
       "      <td>1</td>\n",
       "      <td>1</td>\n",
       "      <td>1</td>\n",
       "      <td>1</td>\n",
       "      <td>1</td>\n",
       "    </tr>\n",
       "    <tr>\n",
       "      <th>19</th>\n",
       "      <td>911</td>\n",
       "      <td>1</td>\n",
       "      <td>1</td>\n",
       "      <td>1</td>\n",
       "      <td>0</td>\n",
       "      <td>1</td>\n",
       "      <td>0</td>\n",
       "      <td>1</td>\n",
       "      <td>1</td>\n",
       "    </tr>\n",
       "  </tbody>\n",
       "</table>\n",
       "</div>"
      ],
      "text/plain": [
       "    PassengerId  Survived  Logistic Regression  Stochastic Gradient Descent  \\\n",
       "0           892         0                    0                            0   \n",
       "1           893         1                    0                            1   \n",
       "2           894         0                    0                            0   \n",
       "3           895         0                    0                            0   \n",
       "4           896         1                    1                            1   \n",
       "5           897         0                    0                            0   \n",
       "6           898         1                    1                            1   \n",
       "7           899         0                    0                            0   \n",
       "8           900         1                    1                            1   \n",
       "9           901         0                    0                            0   \n",
       "10          902         0                    0                            0   \n",
       "11          903         0                    0                            0   \n",
       "12          904         1                    1                            1   \n",
       "13          905         0                    0                            0   \n",
       "14          906         1                    1                            1   \n",
       "15          907         1                    1                            1   \n",
       "16          908         0                    0                            0   \n",
       "17          909         0                    0                            0   \n",
       "18          910         1                    1                            1   \n",
       "19          911         1                    1                            1   \n",
       "\n",
       "    Decision Tree  Random Forest  KNeighbors  C-Support Vector  Neural Network  \n",
       "0               0              0           0                 0               0  \n",
       "1               0              0           0                 1               0  \n",
       "2               1              0           0                 0               0  \n",
       "3               0              0           0                 0               0  \n",
       "4               1              1           0                 1               1  \n",
       "5               1              0           0                 0               0  \n",
       "6               0              0           1                 1               1  \n",
       "7               0              0           0                 0               0  \n",
       "8               0              1           1                 1               1  \n",
       "9               0              0           0                 0               0  \n",
       "10              0              0           0                 0               0  \n",
       "11              0              0           0                 0               0  \n",
       "12              1              1           1                 1               1  \n",
       "13              0              0           0                 0               0  \n",
       "14              1              1           1                 1               1  \n",
       "15              1              1           1                 1               1  \n",
       "16              0              0           0                 0               0  \n",
       "17              1              1           0                 0               0  \n",
       "18              1              1           1                 1               1  \n",
       "19              0              1           0                 1               1  "
      ]
     },
     "execution_count": 27,
     "metadata": {},
     "output_type": "execute_result"
    }
   ],
   "source": [
    "all_predictions = pd.DataFrame({\n",
    "    'PassengerId' : gender_submission.PassengerId,\n",
    "    'Survived': y_test,\n",
    "    'Logistic Regression' : logistic_regression_predictions,\n",
    "    'Stochastic Gradient Descent' : sgd_predictions,\n",
    "    'Decision Tree' : decision_tree_predictions,\n",
    "    'Random Forest' : random_forest_predictions,\n",
    "    'KNeighbors' : kneighbors_predictions, \n",
    "    'C-Support Vector' : svc_predictions,\n",
    "    \"Neural Network\" : neural_network_predictions\n",
    "})\n",
    "\n",
    "all_predictions.head(20)"
   ]
  },
  {
   "cell_type": "code",
   "execution_count": 28,
   "id": "6748f540",
   "metadata": {},
   "outputs": [],
   "source": [
    "output = pd.DataFrame({'PassengerId': gender_submission.PassengerId,\n",
    "                       'Survived': svc_predictions})\n",
    "output.to_csv('submission.csv', index=False)"
   ]
  }
 ],
 "metadata": {
  "kernelspec": {
   "display_name": "Python 3",
   "language": "python",
   "name": "python3"
  },
  "language_info": {
   "codemirror_mode": {
    "name": "ipython",
    "version": 3
   },
   "file_extension": ".py",
   "mimetype": "text/x-python",
   "name": "python",
   "nbconvert_exporter": "python",
   "pygments_lexer": "ipython3",
   "version": "3.8.8"
  }
 },
 "nbformat": 4,
 "nbformat_minor": 5
}
