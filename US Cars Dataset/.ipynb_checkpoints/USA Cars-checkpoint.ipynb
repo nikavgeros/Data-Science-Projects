{
 "cells": [
  {
   "cell_type": "code",
   "execution_count": 30,
   "id": "a3bb1b21",
   "metadata": {},
   "outputs": [],
   "source": [
    "# Data manipulation\n",
    "import pandas as pd\n",
    "import numpy as np\n",
    "\n",
    "# Statistic\n",
    "import statsmodels.api as sm\n",
    "from statsmodels.formula.api import ols\n",
    "import scipy.stats as stats\n",
    "\n",
    "# Visualization\n",
    "import matplotlib.pyplot as plt\n",
    "import seaborn as sns\n",
    "sns.set_style('darkgrid')\n",
    "\n",
    "# Disable warnings\n",
    "import warnings\n",
    "warnings.filterwarnings(\"ignore\")"
   ]
  },
  {
   "cell_type": "code",
   "execution_count": 31,
   "id": "5b69bc03",
   "metadata": {},
   "outputs": [
    {
     "data": {
      "text/html": [
       "<div>\n",
       "<style scoped>\n",
       "    .dataframe tbody tr th:only-of-type {\n",
       "        vertical-align: middle;\n",
       "    }\n",
       "\n",
       "    .dataframe tbody tr th {\n",
       "        vertical-align: top;\n",
       "    }\n",
       "\n",
       "    .dataframe thead th {\n",
       "        text-align: right;\n",
       "    }\n",
       "</style>\n",
       "<table border=\"1\" class=\"dataframe\">\n",
       "  <thead>\n",
       "    <tr style=\"text-align: right;\">\n",
       "      <th></th>\n",
       "      <th>price</th>\n",
       "      <th>brand</th>\n",
       "      <th>model</th>\n",
       "      <th>year</th>\n",
       "      <th>title_status</th>\n",
       "      <th>mileage</th>\n",
       "      <th>color</th>\n",
       "      <th>vin</th>\n",
       "      <th>lot</th>\n",
       "      <th>state</th>\n",
       "      <th>country</th>\n",
       "      <th>condition</th>\n",
       "    </tr>\n",
       "  </thead>\n",
       "  <tbody>\n",
       "    <tr>\n",
       "      <th>0</th>\n",
       "      <td>6300</td>\n",
       "      <td>toyota</td>\n",
       "      <td>cruiser</td>\n",
       "      <td>2008</td>\n",
       "      <td>clean vehicle</td>\n",
       "      <td>274117.0</td>\n",
       "      <td>black</td>\n",
       "      <td>jtezu11f88k007763</td>\n",
       "      <td>159348797</td>\n",
       "      <td>new jersey</td>\n",
       "      <td>usa</td>\n",
       "      <td>10 days left</td>\n",
       "    </tr>\n",
       "    <tr>\n",
       "      <th>1</th>\n",
       "      <td>2899</td>\n",
       "      <td>ford</td>\n",
       "      <td>se</td>\n",
       "      <td>2011</td>\n",
       "      <td>clean vehicle</td>\n",
       "      <td>190552.0</td>\n",
       "      <td>silver</td>\n",
       "      <td>2fmdk3gc4bbb02217</td>\n",
       "      <td>166951262</td>\n",
       "      <td>tennessee</td>\n",
       "      <td>usa</td>\n",
       "      <td>6 days left</td>\n",
       "    </tr>\n",
       "    <tr>\n",
       "      <th>2</th>\n",
       "      <td>5350</td>\n",
       "      <td>dodge</td>\n",
       "      <td>mpv</td>\n",
       "      <td>2018</td>\n",
       "      <td>clean vehicle</td>\n",
       "      <td>39590.0</td>\n",
       "      <td>silver</td>\n",
       "      <td>3c4pdcgg5jt346413</td>\n",
       "      <td>167655728</td>\n",
       "      <td>georgia</td>\n",
       "      <td>usa</td>\n",
       "      <td>2 days left</td>\n",
       "    </tr>\n",
       "    <tr>\n",
       "      <th>3</th>\n",
       "      <td>25000</td>\n",
       "      <td>ford</td>\n",
       "      <td>door</td>\n",
       "      <td>2014</td>\n",
       "      <td>clean vehicle</td>\n",
       "      <td>64146.0</td>\n",
       "      <td>blue</td>\n",
       "      <td>1ftfw1et4efc23745</td>\n",
       "      <td>167753855</td>\n",
       "      <td>virginia</td>\n",
       "      <td>usa</td>\n",
       "      <td>22 hours left</td>\n",
       "    </tr>\n",
       "    <tr>\n",
       "      <th>4</th>\n",
       "      <td>27700</td>\n",
       "      <td>chevrolet</td>\n",
       "      <td>1500</td>\n",
       "      <td>2018</td>\n",
       "      <td>clean vehicle</td>\n",
       "      <td>6654.0</td>\n",
       "      <td>red</td>\n",
       "      <td>3gcpcrec2jg473991</td>\n",
       "      <td>167763266</td>\n",
       "      <td>florida</td>\n",
       "      <td>usa</td>\n",
       "      <td>22 hours left</td>\n",
       "    </tr>\n",
       "  </tbody>\n",
       "</table>\n",
       "</div>"
      ],
      "text/plain": [
       "   price      brand    model  year   title_status   mileage   color  \\\n",
       "0   6300     toyota  cruiser  2008  clean vehicle  274117.0   black   \n",
       "1   2899       ford       se  2011  clean vehicle  190552.0  silver   \n",
       "2   5350      dodge      mpv  2018  clean vehicle   39590.0  silver   \n",
       "3  25000       ford     door  2014  clean vehicle   64146.0    blue   \n",
       "4  27700  chevrolet     1500  2018  clean vehicle    6654.0     red   \n",
       "\n",
       "                   vin        lot       state country      condition  \n",
       "0    jtezu11f88k007763  159348797  new jersey     usa   10 days left  \n",
       "1    2fmdk3gc4bbb02217  166951262   tennessee     usa    6 days left  \n",
       "2    3c4pdcgg5jt346413  167655728     georgia     usa    2 days left  \n",
       "3    1ftfw1et4efc23745  167753855    virginia     usa  22 hours left  \n",
       "4    3gcpcrec2jg473991  167763266     florida     usa  22 hours left  "
      ]
     },
     "execution_count": 31,
     "metadata": {},
     "output_type": "execute_result"
    }
   ],
   "source": [
    "# Load the data\n",
    "df = pd.read_csv(\"USA_cars_datasets.csv\")\n",
    "df.drop('Unnamed: 0', axis=1, inplace=True)\n",
    "df.head()"
   ]
  },
  {
   "cell_type": "markdown",
   "id": "f5924742",
   "metadata": {},
   "source": [
    "### Checking for missing data"
   ]
  },
  {
   "cell_type": "code",
   "execution_count": 34,
   "id": "e7765c34",
   "metadata": {},
   "outputs": [
    {
     "data": {
      "text/html": [
       "<div>\n",
       "<style scoped>\n",
       "    .dataframe tbody tr th:only-of-type {\n",
       "        vertical-align: middle;\n",
       "    }\n",
       "\n",
       "    .dataframe tbody tr th {\n",
       "        vertical-align: top;\n",
       "    }\n",
       "\n",
       "    .dataframe thead th {\n",
       "        text-align: right;\n",
       "    }\n",
       "</style>\n",
       "<table border=\"1\" class=\"dataframe\">\n",
       "  <thead>\n",
       "    <tr style=\"text-align: right;\">\n",
       "      <th></th>\n",
       "      <th>Missing values</th>\n",
       "    </tr>\n",
       "  </thead>\n",
       "  <tbody>\n",
       "    <tr>\n",
       "      <th>price</th>\n",
       "      <td>0</td>\n",
       "    </tr>\n",
       "    <tr>\n",
       "      <th>brand</th>\n",
       "      <td>0</td>\n",
       "    </tr>\n",
       "    <tr>\n",
       "      <th>model</th>\n",
       "      <td>0</td>\n",
       "    </tr>\n",
       "    <tr>\n",
       "      <th>year</th>\n",
       "      <td>0</td>\n",
       "    </tr>\n",
       "    <tr>\n",
       "      <th>title_status</th>\n",
       "      <td>0</td>\n",
       "    </tr>\n",
       "    <tr>\n",
       "      <th>mileage</th>\n",
       "      <td>0</td>\n",
       "    </tr>\n",
       "    <tr>\n",
       "      <th>color</th>\n",
       "      <td>0</td>\n",
       "    </tr>\n",
       "    <tr>\n",
       "      <th>vin</th>\n",
       "      <td>0</td>\n",
       "    </tr>\n",
       "    <tr>\n",
       "      <th>lot</th>\n",
       "      <td>0</td>\n",
       "    </tr>\n",
       "    <tr>\n",
       "      <th>state</th>\n",
       "      <td>0</td>\n",
       "    </tr>\n",
       "    <tr>\n",
       "      <th>country</th>\n",
       "      <td>0</td>\n",
       "    </tr>\n",
       "    <tr>\n",
       "      <th>condition</th>\n",
       "      <td>0</td>\n",
       "    </tr>\n",
       "  </tbody>\n",
       "</table>\n",
       "</div>"
      ],
      "text/plain": [
       "              Missing values\n",
       "price                      0\n",
       "brand                      0\n",
       "model                      0\n",
       "year                       0\n",
       "title_status               0\n",
       "mileage                    0\n",
       "color                      0\n",
       "vin                        0\n",
       "lot                        0\n",
       "state                      0\n",
       "country                    0\n",
       "condition                  0"
      ]
     },
     "execution_count": 34,
     "metadata": {},
     "output_type": "execute_result"
    }
   ],
   "source": [
    "pd.DataFrame({'Missing values':df.isna().sum()})"
   ]
  },
  {
   "cell_type": "markdown",
   "id": "314c244c",
   "metadata": {},
   "source": [
    "### Most frequent brands "
   ]
  },
  {
   "cell_type": "code",
   "execution_count": 35,
   "id": "c4e54f77",
   "metadata": {},
   "outputs": [
    {
     "data": {
      "text/html": [
       "<div>\n",
       "<style scoped>\n",
       "    .dataframe tbody tr th:only-of-type {\n",
       "        vertical-align: middle;\n",
       "    }\n",
       "\n",
       "    .dataframe tbody tr th {\n",
       "        vertical-align: top;\n",
       "    }\n",
       "\n",
       "    .dataframe thead th {\n",
       "        text-align: right;\n",
       "    }\n",
       "</style>\n",
       "<table border=\"1\" class=\"dataframe\">\n",
       "  <thead>\n",
       "    <tr style=\"text-align: right;\">\n",
       "      <th></th>\n",
       "      <th>Num of cars</th>\n",
       "      <th>% Cars</th>\n",
       "    </tr>\n",
       "  </thead>\n",
       "  <tbody>\n",
       "    <tr>\n",
       "      <th>ford</th>\n",
       "      <td>1235.0</td>\n",
       "      <td>49.42</td>\n",
       "    </tr>\n",
       "    <tr>\n",
       "      <th>dodge</th>\n",
       "      <td>432.0</td>\n",
       "      <td>17.29</td>\n",
       "    </tr>\n",
       "    <tr>\n",
       "      <th>nissan</th>\n",
       "      <td>312.0</td>\n",
       "      <td>12.48</td>\n",
       "    </tr>\n",
       "    <tr>\n",
       "      <th>chevrolet</th>\n",
       "      <td>297.0</td>\n",
       "      <td>11.88</td>\n",
       "    </tr>\n",
       "    <tr>\n",
       "      <th>Total</th>\n",
       "      <td>2276.0</td>\n",
       "      <td>91.07</td>\n",
       "    </tr>\n",
       "  </tbody>\n",
       "</table>\n",
       "</div>"
      ],
      "text/plain": [
       "           Num of cars  % Cars\n",
       "ford            1235.0   49.42\n",
       "dodge            432.0   17.29\n",
       "nissan           312.0   12.48\n",
       "chevrolet        297.0   11.88\n",
       "Total           2276.0   91.07"
      ]
     },
     "execution_count": 35,
     "metadata": {},
     "output_type": "execute_result"
    }
   ],
   "source": [
    "freq_df = pd.DataFrame({\"Num of cars\":df['brand'].value_counts().head(4),\n",
    "                       \"% Cars\":round(df['brand'].value_counts(normalize=True).head(4)* 100, 2)})\n",
    "freq_df.append(pd.Series({'Num of cars':freq_df[\"Num of cars\"].sum(),\n",
    "                          '% Cars':round(freq_df[\"% Cars\"].sum(), 2)},\n",
    "                         name='Total'))"
   ]
  },
  {
   "cell_type": "markdown",
   "id": "fc31df9c",
   "metadata": {},
   "source": [
    "The brands Ford, Dodge, Nissan and Chevrolet represent the 91 percent of the data, hence we replace the other brands as 'other'."
   ]
  },
  {
   "cell_type": "code",
   "execution_count": 36,
   "id": "37b8291a",
   "metadata": {},
   "outputs": [],
   "source": [
    "df['brand'] = df['brand'].apply(lambda x: 'other' if x not in freq_df.index else x)"
   ]
  },
  {
   "cell_type": "code",
   "execution_count": 37,
   "id": "90dae61d",
   "metadata": {},
   "outputs": [
    {
     "data": {
      "image/png": "[encoded data removed]",
      "text/plain": [
       "<Figure size 864x432 with 1 Axes>"
      ]
     },
     "metadata": {},
     "output_type": "display_data"
    }
   ],
   "source": [
    "# Bar plot Average price per brand\n",
    "av_prices = []\n",
    "brand_list = df['brand'].unique()\n",
    "\n",
    "for brand in brand_list:\n",
    "    x = df[df['brand']==brand]\n",
    "    av_price = sum(x.price)/len(x)\n",
    "    av_prices.append(av_price)\n",
    "tmp_df = pd.DataFrame({'brand_list': df['brand'].unique(),'av_prices':av_prices})\n",
    "new_index = (tmp_df['av_prices'].sort_values(ascending=False)).index.values\n",
    "sorted_df = tmp_df.reindex(new_index)\n",
    "\n",
    "plt.figure(figsize=(12,6))\n",
    "sns.barplot(y=sorted_df['brand_list'], x=sorted_df['av_prices'], palette = 'GnBu_d')\n",
    "plt.xlabel('Average Price ($)', fontsize = 16)\n",
    "plt.ylabel('Brand', fontsize = 16)\n",
    "plt.xticks(fontsize = 14)\n",
    "plt.yticks(fontsize = 14)\n",
    "plt.title('Average price per brand', fontsize = 18)\n",
    "plt.show()"
   ]
  },
  {
   "cell_type": "markdown",
   "id": "a78ea52f",
   "metadata": {},
   "source": [
    "### Outliers\n",
    "\n",
    "In descriptive statistics, a box plot or boxplot is a method for graphically depicting groups of numerical data through their quartiles. Box plots may also have lines extending vertically from the boxes (whiskers) indicating variability outside the upper and lower quartiles, hence the terms box-and-whisker plot and box-and-whisker diagram."
   ]
  },
  {
   "cell_type": "code",
   "execution_count": 98,
   "id": "e4ede61f",
   "metadata": {},
   "outputs": [
    {
     "data": {
      "image/png": "[encoded data removed]",
      "text/plain": [
       "<Figure size 864x432 with 1 Axes>"
      ]
     },
     "metadata": {},
     "output_type": "display_data"
    }
   ],
   "source": [
    "# Check for outliers\n",
    "plt.figure(figsize=(12,6))\n",
    "ax = sns.boxplot(x='brand', y='price', data=df, color='#99c2a2')\n",
    "plt.xlabel('Brand', fontsize = 16)\n",
    "plt.ylabel('$ Price', fontsize = 16)\n",
    "plt.xticks(fontsize = 14)\n",
    "plt.yticks(fontsize = 14)\n",
    "plt.title('Box plot per brand', fontsize = 18)\n",
    "plt.show()"
   ]
  },
  {
   "cell_type": "markdown",
   "id": "f210818d",
   "metadata": {},
   "source": [
    "Boxplot show us many outliers, but are they wrong values?\n",
    "\n",
    "<b>IQR (Inter Quartile Range)</b> Inter Quartile Range approach to finding the outliers is the most commonly used and most trusted approach used in the research field."
   ]
  },
  {
   "cell_type": "code",
   "execution_count": 99,
   "id": "0d4ba6bd",
   "metadata": {},
   "outputs": [
    {
     "name": "stdout",
     "output_type": "stream",
     "text": [
      "Old Shape:  (2499, 12)\n",
      "New Shape:  (2435, 12)\n"
     ]
    }
   ],
   "source": [
    "# Create a checkpoint of our initial dataframe\n",
    "cleaned_df = df.copy()\n",
    "\n",
    "# IQR\n",
    "Q1 = np.percentile(cleaned_df['price'], 25,\n",
    "                   interpolation = 'midpoint')\n",
    " \n",
    "Q3 = np.percentile(cleaned_df['price'], 75,\n",
    "                   interpolation = 'midpoint')\n",
    "IQR = Q3 - Q1\n",
    " \n",
    "# Upper bound\n",
    "upper = Q3 + 1.5 * IQR\n",
    "\n",
    "# Lower bound\n",
    "lower = Q1 - 1.5 * IQR\n",
    "\n",
    "# Removing the outliers\n",
    "cleaned_df['outlier'] = (cleaned_df['price'] >= upper) | (cleaned_df['price'] <= lower)\n",
    "cleaned_df = cleaned_df[~cleaned_df['outlier']]\n",
    "cleaned_df.drop('outlier', axis=1, inplace=True)\n",
    "\n",
    "print(\"Old Shape: \", df.shape)\n",
    "print(\"New Shape: \", cleaned_df.shape)"
   ]
  },
  {
   "cell_type": "markdown",
   "id": "11c18bd9",
   "metadata": {},
   "source": [
    "We have identified and removed the outliers in a different dataframe, but we decide to keep them since in real life there are cars with extremly high prices."
   ]
  },
  {
   "cell_type": "markdown",
   "id": "a4c961e5",
   "metadata": {},
   "source": [
    "### Shapiro-Wilk \n",
    "\n",
    "<strong>Shapiro-Wilk test</strong> is a test of normality, it determines whether the given sample comes from the normal distribution or not. Shapiro-Wilk’s test or Shapiro test is a normality test in frequentist statistics. The null hypothesis of Shapiro’s test is that the population is distributed normally."
   ]
  },
  {
   "cell_type": "code",
   "execution_count": 107,
   "id": "c452b2b1",
   "metadata": {},
   "outputs": [],
   "source": [
    "def normality_test(series, alpha=1e-3):\n",
    "    k2, p = stats.shapiro(series)\n",
    "    print(\"p = {:g}\".format(p))\n",
    "    if p < alpha:  # null hypothesis: x comes from a normal distribution\n",
    "        print(\"The null hypothesis can be rejected\", end='\\n'*2)\n",
    "    else:\n",
    "        print(\"The null hypothesis cannot be rejected\", end='\\n'*2)"
   ]
  },
  {
   "cell_type": "code",
   "execution_count": 108,
   "id": "c48fbe80",
   "metadata": {},
   "outputs": [
    {
     "name": "stdout",
     "output_type": "stream",
     "text": [
      "p = 0.315079\n",
      "The null hypothesis cannot be rejected\n",
      "\n"
     ]
    }
   ],
   "source": [
    "# Testing functionality of normality_test()\n",
    "measurements =np.random.normal(loc=20, scale=5, size=150)\n",
    "normality_test(measurements)"
   ]
  },
  {
   "cell_type": "code",
   "execution_count": 109,
   "id": "701d982c",
   "metadata": {},
   "outputs": [
    {
     "name": "stdout",
     "output_type": "stream",
     "text": [
      "OTHER\n",
      "p = 5.74898e-10\n",
      "The null hypothesis can be rejected\n",
      "\n",
      "FORD\n",
      "p = 8.37303e-11\n",
      "The null hypothesis can be rejected\n",
      "\n",
      "DODGE\n",
      "p = 2.34928e-06\n",
      "The null hypothesis can be rejected\n",
      "\n",
      "CHEVROLET\n",
      "p = 2.60132e-05\n",
      "The null hypothesis can be rejected\n",
      "\n",
      "NISSAN\n",
      "p = 0.000311085\n",
      "The null hypothesis can be rejected\n",
      "\n"
     ]
    }
   ],
   "source": [
    "for brand in brand_list:\n",
    "    print(brand.upper())\n",
    "    normality_test(cleaned_df[cleaned_df['brand']==brand]['price'])"
   ]
  },
  {
   "cell_type": "markdown",
   "id": "690cc0b1",
   "metadata": {},
   "source": [
    "Since, our groups do not follow normal distribution, we will choose a non parametric test."
   ]
  },
  {
   "cell_type": "markdown",
   "id": "36660d42",
   "metadata": {},
   "source": [
    "### Kruskal-Wallis\n",
    "\n",
    "<strong>Kruskal-Wallis test</strong> is a non-parametric test and an alternative to One-Way Anova. By parametric we mean, the data is not assumed to become from a particular distribution. The main objective of this test is used to determine whether there is a statistical difference between the medians of at least three independent groups. \n",
    "\n",
    "#### Hypothesis:\n",
    "The Kruskal-Wallis Test has the null and alternative hypotheses as discussed below:\n",
    "\n",
    "<ul>\n",
    "    <li>The null hypothesis (H0): The median is the same for all the data groups.</li>\n",
    "    <li>The alternative hypothesis: (Ha): The median is not equal for all the data groups.</li>\n",
    "</ul>\n",
    "\n",
    "\n",
    "### Stepwise Implementation:\n",
    "Let us consider an example in which the Research and Development team wants to determine if applying three different engine oils leads to the difference in the mileage of cars. The team decided to opt for 15 cars of the same brand and break down them into groups of three (5 cars in each group). Now each group is doped with exactly one engine oil (all three engine oils are used). Then they are allowed to run for 20 kilometers on the same track and once their journey gets ended, the mileage was noted down.\n",
    "\n",
    "<strong>Step 1</strong>: Create the data\n",
    "\n",
    "The very first step is to create data. We need to create four arrays that can hold cars’ price (one for each group)."
   ]
  },
  {
   "cell_type": "code",
   "execution_count": 111,
   "id": "dc70209d",
   "metadata": {},
   "outputs": [],
   "source": [
    "ford_df = df[df['brand']=='ford']['price']\n",
    "dodge_df = df[df['brand']=='dodge']['price']\n",
    "nissan_df = df[df['brand']=='nissan']['price']\n",
    "chevrolet_df = df[df['brand']=='chevrolet']['price']"
   ]
  },
  {
   "cell_type": "markdown",
   "id": "986f29f4",
   "metadata": {},
   "source": [
    "<strong>Step 2</strong>: Perform the Kruskal-Wallis Test\n",
    "\n",
    "Python provides us kruskal() function from the scipy.stats library using which we can conduct the Kruskal-Wallis test in Python easily."
   ]
  },
  {
   "cell_type": "code",
   "execution_count": 112,
   "id": "fb347506",
   "metadata": {},
   "outputs": [
    {
     "name": "stdout",
     "output_type": "stream",
     "text": [
      "KruskalResult(statistic=58.305268210414056, pvalue=1.3527939855482375e-12)\n"
     ]
    }
   ],
   "source": [
    "# Since chevrolet has the lowest size, we resize the other 3 brands in order to be equal\n",
    "ford_df = ford_df[:chevrolet_df.shape[0]]\n",
    "dodge_df = dodge_df[:chevrolet_df.shape[0]]\n",
    "nissan_df = nissan_df[:chevrolet_df.shape[0]]\n",
    "\n",
    "result = stats.kruskal(ford_df, dodge_df, nissan_df, chevrolet_df)\n",
    "print(result)"
   ]
  },
  {
   "cell_type": "markdown",
   "id": "dc7f4907",
   "metadata": {},
   "source": [
    "<strong>Step 3</strong>: Analyze the results.\n",
    "\n",
    "In this example, the test statistic comes out to be equal to 58.3052 and the corresponding p-value is 1.3527939855482375e-12. As the p-value is less than 0.05, we can reject the null hypothesis that the median price of cars is the same for all four groups. Hence, we do have sufficient proof to claim that the different types of brands used to lead to statistically significant differences in the price of cars."
   ]
  },
  {
   "cell_type": "markdown",
   "id": "b4b82b6a",
   "metadata": {},
   "source": [
    "### Correlation\n",
    "\n",
    "<strong>Correlation coefficients</strong> are used to calculate how vital a connection is between two variables. There are different types of correlation coefficients, one of the most popular is Pearson’s correlation (also known as Pearson’s R) which is commonly used in linear regression. \n",
    "\n",
    "#### Correlation coefficient Formula\n",
    "The correlation coefficient procedure is used to determine how strong a relationship is between the data. The correlation coefficient procedure yields a value between 1 and -1. In which,\n",
    "\n",
    "<ul>\n",
    "    <li>-1 indicates a strong negative relationship</li>\n",
    "    <li>1 indicates strong positive relationships</li>\n",
    "    <li>And an outcome of zero implies no connection at all</li>\n",
    "</ul>\n",
    "\n",
    "#### Linear Correlation Coefficient\n",
    "The Pearson’s correlation coefficient is the linear correlation coefficient which returns the value between the -1 and +1. In this -1 indicates a strong negative correlation and +1 indicates a strong positive correlation. If it lies 0 then there is no correlation. This is also known as zero correlation.\n",
    "\n",
    "The “crude estimations” for analyzing the stability of correlations using Pearson’s Correlation:\n",
    "<table>\n",
    "  <tr>\n",
    "    <th>r value</th>\n",
    "    <th>crude estimates</th>\n",
    "  </tr>\n",
    "  <tr>\n",
    "    <td>+.70 or higher</td>\n",
    "    <td>A very strong positive relationship</td>\n",
    "  </tr>\n",
    "  <tr>\n",
    "    <td>+.40 to +.69</td>\n",
    "    <td>Strong positive relationship</td>\n",
    "  </tr>\n",
    "      <tr>\n",
    "    <td>+.30 to +.39</td>\n",
    "    <td>Moderate positive relationship</td>\n",
    "  </tr>\n",
    "  <tr>\n",
    "    <td>+.20 to +.29</td>\n",
    "    <td>Weak positive relationship</td>\n",
    "  </tr>\n",
    "      <tr>\n",
    "    <td>+.01 to +.19</td>\n",
    "    <td> No or negligible relationship</td>\n",
    "  </tr>\n",
    "      <tr>\n",
    "    <td>0</td>\n",
    "    <td>No relationship [zero correlation]</td>\n",
    "  </tr>\n",
    "  <tr>\n",
    "    <td>-.01 to -.19</td>\n",
    "    <td> No or negligible relationship</td>\n",
    "  </tr>\n",
    "  <tr>\n",
    "    <td>-.20 to -.29</td>\n",
    "    <td>Weak negative relationship</td>\n",
    "  </tr>\n",
    "  <tr>\n",
    "    <td>-.30 to -.39</td>\n",
    "    <td>Moderate negative relationship</td>\n",
    "  </tr>\n",
    "  <tr>\n",
    "    <td>-.40 to -.69</td>\n",
    "    <td>Strong negative relationship</td>\n",
    "  </tr>\n",
    "  <tr>\n",
    "    <td>-.70 or higher</td>\n",
    "    <td>The very strong negative relationship</td>\n",
    "</table>"
   ]
  },
  {
   "cell_type": "code",
   "execution_count": 113,
   "id": "1549b652",
   "metadata": {},
   "outputs": [
    {
     "data": {
      "image/png": "[encoded data removed]",
      "text/plain": [
       "<Figure size 864x432 with 2 Axes>"
      ]
     },
     "metadata": {},
     "output_type": "display_data"
    }
   ],
   "source": [
    "# Correlation Heatmap\n",
    "plt.figure(figsize=(12,6))\n",
    "sns.heatmap(df.corr(), cmap = 'Wistia', annot= True);\n",
    "plt.xticks(fontsize = 14)\n",
    "plt.yticks(fontsize = 14)\n",
    "plt.title('Correlation', fontsize = 18)\n",
    "plt.show()"
   ]
  },
  {
   "cell_type": "code",
   "execution_count": 114,
   "id": "0f04a12f",
   "metadata": {},
   "outputs": [
    {
     "data": {
      "image/png": "[encoded data removed]",
      "text/plain": [
       "<Figure size 864x432 with 1 Axes>"
      ]
     },
     "metadata": {},
     "output_type": "display_data"
    }
   ],
   "source": [
    "# Scatter plot Year vs Price\n",
    "plt.figure(figsize=(12,6))\n",
    "plt.scatter(df.year, df.price, c ='blue')\n",
    "plt.xlabel('Year', fontsize = 16)\n",
    "plt.ylabel('Price', fontsize = 16)\n",
    "plt.xticks(fontsize = 14)\n",
    "plt.yticks(fontsize = 14)\n",
    "plt.title('Price vs Year', fontsize = 18)\n",
    "plt.show()"
   ]
  },
  {
   "cell_type": "code",
   "execution_count": 115,
   "id": "58e198bc",
   "metadata": {},
   "outputs": [
    {
     "data": {
      "image/png": "[encoded data removed]",
      "text/plain": [
       "<Figure size 864x432 with 1 Axes>"
      ]
     },
     "metadata": {},
     "output_type": "display_data"
    }
   ],
   "source": [
    "# Scatter plot Mileage vs Price\n",
    "plt.figure(figsize=(12,6))\n",
    "plt.scatter(df.mileage, df.price, c =\"blue\")\n",
    "plt.xlabel('Mileage', fontsize = 16)\n",
    "plt.ylabel('Price', fontsize = 16)\n",
    "plt.xticks(fontsize = 14)\n",
    "plt.yticks(fontsize = 14)\n",
    "plt.title('Price vs Mileage', fontsize = 18)\n",
    "plt.show()"
   ]
  },
  {
   "cell_type": "markdown",
   "id": "0277ed7f",
   "metadata": {},
   "source": [
    "### Regression analysis\n",
    "\n",
    "<strong>Regression analysis</strong> is a reliable method of identifying which variables have impact on a topic of interest. The process of performing a regression allows you to confidently determine which factors matter most, which factors can be ignored, and how these factors influence each other.\n",
    "\n",
    "In order to understand regression analysis fully, it’s essential to comprehend the following terms:\n",
    "\n",
    "<ul>\n",
    "    <li><strong>Dependent Variable:</strong> This is the main factor that you’re trying to understand or predict.</li>\n",
    "    <li><strong>Independent Variables:</strong> These are the factors that you hypothesize have an impact on your dependent variable.</li>\n",
    "</ul>\n",
    "    \n",
    "The most common form of regression analysis is linear regression, in which one finds the line (or a more complex linear combination) that most closely fits the data according to a specific mathematical criterion.\n",
    "\n",
    "For example, the method of <strong>ordinary least squares</strong> computes the unique line (or hyperplane) that minimizes the sum of squared differences between the true data and that line (or hyperplane)."
   ]
  },
  {
   "cell_type": "markdown",
   "id": "a122d962",
   "metadata": {},
   "source": [
    "### Ordinary Least Squares (OLS) using statsmodel\n",
    "\n",
    "Description of some of the terms in the table : \n",
    " \n",
    "<ul>\n",
    "    <li><strong>R-squared</strong> : the coefficient of determination. It is the proportion of the variance in the dependent variable that is predictable/explained</li>\n",
    "    <li><strong>Adj. R-squared</strong> : Adjusted R-squared is the modified form of R-squared adjusted for the number of independent variables in the model. Value of adj. R-squared increases, when we include extra variables which actually improve the model.</li>\n",
    "    <li><strong>F-statistic</strong> : the ratio of mean squared error of the model to the mean squared error of residuals. It determines the overall significance of the model.</li>\n",
    "    <li><strong>coef</strong> : the coefficients of the independent variables and the constant term in the equation.</li>\n",
    "    <li><strong>t</strong> : the value of t-statistic. It is the ratio of the difference between the estimated and hypothesized value of a parameter, to the standard error</li>\n",
    "</ul>\n",
    "\n",
    "\n",
    "\n"
   ]
  },
  {
   "cell_type": "code",
   "execution_count": 127,
   "id": "d89a182e",
   "metadata": {},
   "outputs": [
    {
     "data": {
      "text/html": [
       "<table class=\"simpletable\">\n",
       "<caption>OLS Regression Results</caption>\n",
       "<tr>\n",
       "  <th>Dep. Variable:</th>          <td>price</td>      <th>  R-squared:         </th> <td>   0.305</td> \n",
       "</tr>\n",
       "<tr>\n",
       "  <th>Model:</th>                   <td>OLS</td>       <th>  Adj. R-squared:    </th> <td>   0.303</td> \n",
       "</tr>\n",
       "<tr>\n",
       "  <th>Method:</th>             <td>Least Squares</td>  <th>  F-statistic:       </th> <td>   182.1</td> \n",
       "</tr>\n",
       "<tr>\n",
       "  <th>Date:</th>             <td>Mon, 27 Feb 2023</td> <th>  Prob (F-statistic):</th> <td>1.47e-192</td>\n",
       "</tr>\n",
       "<tr>\n",
       "  <th>Time:</th>                 <td>00:04:31</td>     <th>  Log-Likelihood:    </th> <td> -26588.</td> \n",
       "</tr>\n",
       "<tr>\n",
       "  <th>No. Observations:</th>      <td>  2499</td>      <th>  AIC:               </th> <td>5.319e+04</td>\n",
       "</tr>\n",
       "<tr>\n",
       "  <th>Df Residuals:</th>          <td>  2492</td>      <th>  BIC:               </th> <td>5.323e+04</td>\n",
       "</tr>\n",
       "<tr>\n",
       "  <th>Df Model:</th>              <td>     6</td>      <th>                     </th>     <td> </td>    \n",
       "</tr>\n",
       "<tr>\n",
       "  <th>Covariance Type:</th>      <td>nonrobust</td>    <th>                     </th>     <td> </td>    \n",
       "</tr>\n",
       "</table>\n",
       "<table class=\"simpletable\">\n",
       "<tr>\n",
       "    <td></td>       <th>coef</th>     <th>std err</th>      <th>t</th>      <th>P>|t|</th>  <th>[0.025</th>    <th>0.975]</th>  \n",
       "</tr>\n",
       "<tr>\n",
       "  <th>const</th> <td> -1.75e+06</td> <td> 1.24e+05</td> <td>  -14.095</td> <td> 0.000</td> <td>-1.99e+06</td> <td>-1.51e+06</td>\n",
       "</tr>\n",
       "<tr>\n",
       "  <th>x1</th>    <td> 1051.1949</td> <td>   73.830</td> <td>   14.238</td> <td> 0.000</td> <td>  906.421</td> <td> 1195.969</td>\n",
       "</tr>\n",
       "<tr>\n",
       "  <th>x2</th>    <td>   -0.0486</td> <td>    0.004</td> <td>  -11.516</td> <td> 0.000</td> <td>   -0.057</td> <td>   -0.040</td>\n",
       "</tr>\n",
       "<tr>\n",
       "  <th>x3</th>    <td>-3.467e+05</td> <td> 2.48e+04</td> <td>  -13.981</td> <td> 0.000</td> <td>-3.95e+05</td> <td>-2.98e+05</td>\n",
       "</tr>\n",
       "<tr>\n",
       "  <th>x4</th>    <td>-3.504e+05</td> <td> 2.49e+04</td> <td>  -14.088</td> <td> 0.000</td> <td>-3.99e+05</td> <td>-3.02e+05</td>\n",
       "</tr>\n",
       "<tr>\n",
       "  <th>x5</th>    <td>-3.455e+05</td> <td> 2.48e+04</td> <td>  -13.906</td> <td> 0.000</td> <td>-3.94e+05</td> <td>-2.97e+05</td>\n",
       "</tr>\n",
       "<tr>\n",
       "  <th>x6</th>    <td>-3.565e+05</td> <td> 2.49e+04</td> <td>  -14.323</td> <td> 0.000</td> <td>-4.05e+05</td> <td>-3.08e+05</td>\n",
       "</tr>\n",
       "<tr>\n",
       "  <th>x7</th>    <td>-3.512e+05</td> <td> 2.48e+04</td> <td>  -14.160</td> <td> 0.000</td> <td>   -4e+05</td> <td>-3.03e+05</td>\n",
       "</tr>\n",
       "</table>\n",
       "<table class=\"simpletable\">\n",
       "<tr>\n",
       "  <th>Omnibus:</th>       <td>558.112</td> <th>  Durbin-Watson:     </th> <td>   1.919</td> \n",
       "</tr>\n",
       "<tr>\n",
       "  <th>Prob(Omnibus):</th> <td> 0.000</td>  <th>  Jarque-Bera (JB):  </th> <td>1430.883</td> \n",
       "</tr>\n",
       "<tr>\n",
       "  <th>Skew:</th>          <td> 1.196</td>  <th>  Prob(JB):          </th> <td>1.94e-311</td>\n",
       "</tr>\n",
       "<tr>\n",
       "  <th>Kurtosis:</th>      <td> 5.831</td>  <th>  Cond. No.          </th> <td>5.17e+19</td> \n",
       "</tr>\n",
       "</table><br/><br/>Notes:<br/>[1] Standard Errors assume that the covariance matrix of the errors is correctly specified.<br/>[2] The smallest eigenvalue is 5.9e-27. This might indicate that there are<br/>strong multicollinearity problems or that the design matrix is singular."
      ],
      "text/plain": [
       "<class 'statsmodels.iolib.summary.Summary'>\n",
       "\"\"\"\n",
       "                            OLS Regression Results                            \n",
       "==============================================================================\n",
       "Dep. Variable:                  price   R-squared:                       0.305\n",
       "Model:                            OLS   Adj. R-squared:                  0.303\n",
       "Method:                 Least Squares   F-statistic:                     182.1\n",
       "Date:                Mon, 27 Feb 2023   Prob (F-statistic):          1.47e-192\n",
       "Time:                        00:04:31   Log-Likelihood:                -26588.\n",
       "No. Observations:                2499   AIC:                         5.319e+04\n",
       "Df Residuals:                    2492   BIC:                         5.323e+04\n",
       "Df Model:                           6                                         \n",
       "Covariance Type:            nonrobust                                         \n",
       "==============================================================================\n",
       "                 coef    std err          t      P>|t|      [0.025      0.975]\n",
       "------------------------------------------------------------------------------\n",
       "const       -1.75e+06   1.24e+05    -14.095      0.000   -1.99e+06   -1.51e+06\n",
       "x1          1051.1949     73.830     14.238      0.000     906.421    1195.969\n",
       "x2            -0.0486      0.004    -11.516      0.000      -0.057      -0.040\n",
       "x3         -3.467e+05   2.48e+04    -13.981      0.000   -3.95e+05   -2.98e+05\n",
       "x4         -3.504e+05   2.49e+04    -14.088      0.000   -3.99e+05   -3.02e+05\n",
       "x5         -3.455e+05   2.48e+04    -13.906      0.000   -3.94e+05   -2.97e+05\n",
       "x6         -3.565e+05   2.49e+04    -14.323      0.000   -4.05e+05   -3.08e+05\n",
       "x7         -3.512e+05   2.48e+04    -14.160      0.000      -4e+05   -3.03e+05\n",
       "==============================================================================\n",
       "Omnibus:                      558.112   Durbin-Watson:                   1.919\n",
       "Prob(Omnibus):                  0.000   Jarque-Bera (JB):             1430.883\n",
       "Skew:                           1.196   Prob(JB):                    1.94e-311\n",
       "Kurtosis:                       5.831   Cond. No.                     5.17e+19\n",
       "==============================================================================\n",
       "\n",
       "Notes:\n",
       "[1] Standard Errors assume that the covariance matrix of the errors is correctly specified.\n",
       "[2] The smallest eigenvalue is 5.9e-27. This might indicate that there are\n",
       "strong multicollinearity problems or that the design matrix is singular.\n",
       "\"\"\""
      ]
     },
     "execution_count": 127,
     "metadata": {},
     "output_type": "execute_result"
    }
   ],
   "source": [
    "# Since, brand is a categorical variable we need create dummies.\n",
    "x = pd.get_dummies(df[['year', 'mileage', 'brand']])\n",
    "y = df.price\n",
    "x = sm.add_constant(x)\n",
    "result = sm.OLS(y, x.values).fit()\n",
    "result.summary()"
   ]
  },
  {
   "cell_type": "markdown",
   "id": "04dae556",
   "metadata": {},
   "source": [
    "### REFERENCES\n",
    "<ol>\n",
    "     <li>Aurélien Géron. (2019). Hands-on Machine Learning with. Scikit-Learn, Keras, and. TensorFlow. Concepts, Tools, and Techniques to. Build Intelligent Systems.</li>\n",
    "    <li>https://www.geeksforgeeks.org/</li>\n",
    "    <li>https://towardsdatascience.com/</li>\n",
    "</ol>"
   ]
  },
  {
   "cell_type": "code",
   "execution_count": null,
   "id": "6a170793",
   "metadata": {},
   "outputs": [],
   "source": []
  }
 ],
 "metadata": {
  "kernelspec": {
   "display_name": "Python 3 (ipykernel)",
   "language": "python",
   "name": "python3"
  },
  "language_info": {
   "codemirror_mode": {
    "name": "ipython",
    "version": 3
   },
   "file_extension": ".py",
   "mimetype": "text/x-python",
   "name": "python",
   "nbconvert_exporter": "python",
   "pygments_lexer": "ipython3",
   "version": "3.8.8"
  }
 },
 "nbformat": 4,
 "nbformat_minor": 5
}
