{
 "cells": [
  {
   "cell_type": "code",
   "execution_count": 1,
   "id": "e56c134c",
   "metadata": {},
   "outputs": [],
   "source": [
    "import tensorflow as tf\n",
    "from tensorflow.keras.preprocessing.text import Tokenizer\n",
    "from tensorflow.keras.preprocessing.sequence import pad_sequences\n",
    "import pandas as pd\n",
    "import numpy as np\n",
    "import matplotlib.pyplot as plt"
   ]
  },
  {
   "cell_type": "code",
   "execution_count": 2,
   "id": "df1e1d62",
   "metadata": {},
   "outputs": [],
   "source": [
    "train_data = pd.read_csv('train.csv')\n",
    "test_data = pd.read_csv('test.csv')\n",
    "sample_submission = pd.read_csv('sample_submission.csv')\n",
    "y_test = sample_submission['target']"
   ]
  },
  {
   "cell_type": "code",
   "execution_count": 3,
   "id": "4f38cf2b",
   "metadata": {},
   "outputs": [
    {
     "data": {
      "text/plain": [
       "((7613,), (7613,), (3263,), (3263,))"
      ]
     },
     "execution_count": 3,
     "metadata": {},
     "output_type": "execute_result"
    }
   ],
   "source": [
    "x_train, y_train, x_test = train_data['text'], train_data['target'], test_data['text']\n",
    "x_train.shape, y_train.shape, x_test.shape, y_test.shape"
   ]
  },
  {
   "cell_type": "code",
   "execution_count": 13,
   "id": "e78df3de",
   "metadata": {},
   "outputs": [],
   "source": [
    "def clean_text(data):\n",
    "    data = data.str.replace('[^a-zA-Z]', ' ', regex = True)\n",
    "    data = data.str.replace(r'\\$\\w*', '', regex = True)\n",
    "    data = data.str.replace(r'^RT[\\s]+', '', regex = True)\n",
    "    data = data.str.replace(r'https?:\\/\\/.*[\\r\\n]*', '', regex = True)\n",
    "    data = data.str.replace(r'#', '', regex = True)\n",
    "    return data"
   ]
  },
  {
   "cell_type": "code",
   "execution_count": 14,
   "id": "5c2a1457",
   "metadata": {},
   "outputs": [],
   "source": [
    "x_train_cleaned = clean_text(x_train)\n",
    "x_test_cleaned = clean_text(x_test)"
   ]
  },
  {
   "cell_type": "code",
   "execution_count": 17,
   "id": "d40475fb",
   "metadata": {},
   "outputs": [],
   "source": [
    "vocab_size = 10000\n",
    "embedding_dim = 32\n",
    "max_length = 120\n",
    "trunc_type='post'\n",
    "oov_tok = \"<OOV>\"\n",
    "\n",
    "tokenizer = Tokenizer(num_words=vocab_size)\n",
    "tokenizer.fit_on_texts(x_train_cleaned)\n",
    "\n",
    "training_sequences = tokenizer.texts_to_sequences(x_train_cleaned)\n",
    "training_padded = pad_sequences(training_sequences, maxlen=max_length, truncating=trunc_type)\n",
    "\n",
    "testing_senquences = tokenizer.texts_to_sequences(x_test_cleaned)\n",
    "testing_padded = pad_sequences(testing_senquences, maxlen=max_length, truncating=trunc_type)"
   ]
  },
  {
   "cell_type": "code",
   "execution_count": 21,
   "id": "bbe24e2d",
   "metadata": {},
   "outputs": [
    {
     "name": "stdout",
     "output_type": "stream",
     "text": [
      "57      Set our hearts ablaze and every city was a gif...\n",
      "4670    Oh no. The Boots &amp; hearts social media inu...\n",
      "4931    They are the real heroes... RIP Brave hearts.....\n",
      "Name: text, dtype: object\n",
      "\n",
      "57      Set our hearts ablaze and every city was a gif...\n",
      "4670    Oh no  The Boots  amp  hearts social media inu...\n",
      "4931    They are the real heroes    RIP Brave hearts  ...\n",
      "Name: text, dtype: object\n"
     ]
    }
   ],
   "source": [
    "print(x_train.loc[x_train.str.find('hearts')!=-1], end='\\n'*2)\n",
    "print(x_train_cleaned.loc[x_train_cleaned.str.find('hearts')!=-1])"
   ]
  },
  {
   "cell_type": "code",
   "execution_count": 23,
   "id": "c622eb40",
   "metadata": {},
   "outputs": [
    {
     "name": "stdout",
     "output_type": "stream",
     "text": [
      "Set our hearts ablaze and every city was a gift And every skyline was like a kiss upon the lips @Û_ https://t.co/cYoMPZ1A0Z\n",
      "Set our hearts ablaze and every city was a gift And every skyline was like a kiss upon the lips      https   t co cYoMPZ A Z\n"
     ]
    }
   ],
   "source": [
    "print(x_train[57])\n",
    "print(x_train_cleaned[57])"
   ]
  },
  {
   "cell_type": "code",
   "execution_count": 31,
   "id": "a9e888f6",
   "metadata": {},
   "outputs": [
    {
     "name": "stdout",
     "output_type": "stream",
     "text": [
      "Model: \"sequential_3\"\n",
      "_________________________________________________________________\n",
      "Layer (type)                 Output Shape              Param #   \n",
      "=================================================================\n",
      "embedding_3 (Embedding)      (None, 120, 32)           320000    \n",
      "_________________________________________________________________\n",
      "flatten_3 (Flatten)          (None, 3840)              0         \n",
      "_________________________________________________________________\n",
      "dense_6 (Dense)              (None, 6)                 23046     \n",
      "_________________________________________________________________\n",
      "dense_7 (Dense)              (None, 1)                 7         \n",
      "=================================================================\n",
      "Total params: 343,053\n",
      "Trainable params: 343,053\n",
      "Non-trainable params: 0\n",
      "_________________________________________________________________\n",
      "Epoch 1/10\n",
      "238/238 [==============================] - 1s 3ms/step - loss: 0.5299 - accuracy: 0.7372 - val_loss: 0.9157 - val_accuracy: 0.7012\n",
      "Epoch 2/10\n",
      "238/238 [==============================] - 1s 3ms/step - loss: 0.2412 - accuracy: 0.9033 - val_loss: 1.4611 - val_accuracy: 0.5798\n",
      "Epoch 3/10\n",
      "238/238 [==============================] - 1s 3ms/step - loss: 0.0876 - accuracy: 0.9664 - val_loss: 2.5388 - val_accuracy: 0.5639\n",
      "Epoch 4/10\n",
      "238/238 [==============================] - 1s 3ms/step - loss: 0.0457 - accuracy: 0.9840 - val_loss: 2.7158 - val_accuracy: 0.5765\n",
      "Epoch 5/10\n",
      "238/238 [==============================] - 1s 3ms/step - loss: 0.0330 - accuracy: 0.9863 - val_loss: 3.2797 - val_accuracy: 0.5697\n",
      "Epoch 6/10\n",
      "238/238 [==============================] - 1s 3ms/step - loss: 0.0336 - accuracy: 0.9870 - val_loss: 2.7405 - val_accuracy: 0.5936\n",
      "Epoch 7/10\n",
      "238/238 [==============================] - 1s 3ms/step - loss: 0.0289 - accuracy: 0.9877 - val_loss: 2.7908 - val_accuracy: 0.6166\n",
      "Epoch 8/10\n",
      "238/238 [==============================] - 1s 3ms/step - loss: 0.0243 - accuracy: 0.9878 - val_loss: 2.4373 - val_accuracy: 0.6580\n",
      "Epoch 9/10\n",
      "238/238 [==============================] - 1s 3ms/step - loss: 0.0207 - accuracy: 0.9883 - val_loss: 3.6512 - val_accuracy: 0.5418\n",
      "Epoch 10/10\n",
      "238/238 [==============================] - 1s 3ms/step - loss: 0.0234 - accuracy: 0.9878 - val_loss: 2.2958 - val_accuracy: 0.7052\n"
     ]
    },
    {
     "data": {
      "text/plain": [
       "<keras.callbacks.History at 0x1e32ba27dc0>"
      ]
     },
     "execution_count": 31,
     "metadata": {},
     "output_type": "execute_result"
    }
   ],
   "source": [
    "model = tf.keras.Sequential([\n",
    "    tf.keras.layers.Embedding(vocab_size, embedding_dim, input_length=max_length),\n",
    "    tf.keras.layers.Flatten(),\n",
    "    tf.keras.layers.Dense(6, activation=tf.nn.relu),\n",
    "    tf.keras.layers.Dense(1, activation=tf.nn.sigmoid)\n",
    "])\n",
    "\n",
    "model.compile(loss='binary_crossentropy',\n",
    "             optimizer=tf.optimizers.Adam(learning_rate=0.01),\n",
    "             metrics=['accuracy'])\n",
    "\n",
    "model.summary()\n",
    "\n",
    "model.fit(training_padded, y_train, epochs=10, validation_data=(testing_padded , y_test))"
   ]
  },
  {
   "cell_type": "code",
   "execution_count": 32,
   "id": "b5339046",
   "metadata": {},
   "outputs": [
    {
     "name": "stdout",
     "output_type": "stream",
     "text": [
      "102/102 [==============================] - 0s 513us/step - loss: 2.2958 - accuracy: 0.7052\n"
     ]
    },
    {
     "data": {
      "text/plain": [
       "[2.2957985401153564, 0.7051792740821838]"
      ]
     },
     "execution_count": 32,
     "metadata": {},
     "output_type": "execute_result"
    }
   ],
   "source": [
    "model.evaluate(testing_padded, y_test)"
   ]
  },
  {
   "cell_type": "code",
   "execution_count": 33,
   "id": "1c176baf",
   "metadata": {},
   "outputs": [
    {
     "data": {
      "text/plain": [
       "array([0.74177605], dtype=float32)"
      ]
     },
     "execution_count": 33,
     "metadata": {},
     "output_type": "execute_result"
    }
   ],
   "source": [
    "y_predictions = model.predict(testing_padded)\n",
    "y_pred = [1 if p >0.5 else 0 for p in y_predictions]\n",
    "y_predictions[0]"
   ]
  },
  {
   "cell_type": "code",
   "execution_count": 34,
   "id": "f34ee1d2",
   "metadata": {},
   "outputs": [
    {
     "data": {
      "text/plain": [
       "(3263, 3263)"
      ]
     },
     "execution_count": 34,
     "metadata": {},
     "output_type": "execute_result"
    }
   ],
   "source": [
    "len(testing_padded), len(y_test)"
   ]
  },
  {
   "cell_type": "code",
   "execution_count": null,
   "id": "7151e71b",
   "metadata": {},
   "outputs": [],
   "source": []
  },
  {
   "cell_type": "code",
   "execution_count": null,
   "id": "f200cff1",
   "metadata": {},
   "outputs": [],
   "source": []
  }
 ],
 "metadata": {
  "kernelspec": {
   "display_name": "Python 3",
   "language": "python",
   "name": "python3"
  },
  "language_info": {
   "codemirror_mode": {
    "name": "ipython",
    "version": 3
   },
   "file_extension": ".py",
   "mimetype": "text/x-python",
   "name": "python",
   "nbconvert_exporter": "python",
   "pygments_lexer": "ipython3",
   "version": "3.8.8"
  }
 },
 "nbformat": 4,
 "nbformat_minor": 5
}
